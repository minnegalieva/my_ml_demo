{
  "nbformat": 4,
  "nbformat_minor": 0,
  "metadata": {
    "colab": {
      "name": "appl_ML_final_Aygul.ipynb",
      "provenance": [],
      "collapsed_sections": [],
      "machine_shape": "hm"
    },
    "kernelspec": {
      "display_name": "Python 3",
      "language": "python",
      "name": "python3"
    },
    "language_info": {
      "codemirror_mode": {
        "name": "ipython",
        "version": 3
      },
      "file_extension": ".py",
      "mimetype": "text/x-python",
      "name": "python",
      "nbconvert_exporter": "python",
      "pygments_lexer": "ipython3",
      "version": "3.7.6"
    },
    "widgets": {
      "application/vnd.jupyter.widget-state+json": {
        "441fbcebae84466b89333e885908bb07": {
          "model_module": "@jupyter-widgets/controls",
          "model_name": "HBoxModel",
          "model_module_version": "1.5.0",
          "state": {
            "_view_name": "HBoxView",
            "_dom_classes": [],
            "_model_name": "HBoxModel",
            "_view_module": "@jupyter-widgets/controls",
            "_model_module_version": "1.5.0",
            "_view_count": null,
            "_view_module_version": "1.5.0",
            "box_style": "",
            "layout": "IPY_MODEL_51af351d01c34a9b965f58f661080b31",
            "_model_module": "@jupyter-widgets/controls",
            "children": [
              "IPY_MODEL_872dca3b66844f6e8ac28f122eb35105",
              "IPY_MODEL_382ddb14676d4b99a143f79a12086e74"
            ]
          }
        },
        "51af351d01c34a9b965f58f661080b31": {
          "model_module": "@jupyter-widgets/base",
          "model_name": "LayoutModel",
          "model_module_version": "1.2.0",
          "state": {
            "_view_name": "LayoutView",
            "grid_template_rows": null,
            "right": null,
            "justify_content": null,
            "_view_module": "@jupyter-widgets/base",
            "overflow": null,
            "_model_module_version": "1.2.0",
            "_view_count": null,
            "flex_flow": null,
            "width": null,
            "min_width": null,
            "border": null,
            "align_items": null,
            "bottom": null,
            "_model_module": "@jupyter-widgets/base",
            "top": null,
            "grid_column": null,
            "overflow_y": null,
            "overflow_x": null,
            "grid_auto_flow": null,
            "grid_area": null,
            "grid_template_columns": null,
            "flex": null,
            "_model_name": "LayoutModel",
            "justify_items": null,
            "grid_row": null,
            "max_height": null,
            "align_content": null,
            "visibility": null,
            "align_self": null,
            "height": null,
            "min_height": null,
            "padding": null,
            "grid_auto_rows": null,
            "grid_gap": null,
            "max_width": null,
            "order": null,
            "_view_module_version": "1.2.0",
            "grid_template_areas": null,
            "object_position": null,
            "object_fit": null,
            "grid_auto_columns": null,
            "margin": null,
            "display": null,
            "left": null
          }
        },
        "872dca3b66844f6e8ac28f122eb35105": {
          "model_module": "@jupyter-widgets/controls",
          "model_name": "ImageModel",
          "model_module_version": "1.5.0",
          "state": {
            "_view_name": "ImageView",
            "_dom_classes": [],
            "_model_name": "ImageModel",
            "format": "png",
            "_view_module": "@jupyter-widgets/controls",
            "_model_module_version": "1.5.0",
            "_view_count": null,
            "width": "300",
            "_view_module_version": "1.5.0",
            "layout": "IPY_MODEL_3ac956ba225043cb8ec01aefbf83f6f6",
            "height": "400",
            "_model_module": "@jupyter-widgets/controls"
          }
        },
        "382ddb14676d4b99a143f79a12086e74": {
          "model_module": "@jupyter-widgets/controls",
          "model_name": "ImageModel",
          "model_module_version": "1.5.0",
          "state": {
            "_view_name": "ImageView",
            "_dom_classes": [],
            "_model_name": "ImageModel",
            "format": "png",
            "_view_module": "@jupyter-widgets/controls",
            "_model_module_version": "1.5.0",
            "_view_count": null,
            "width": "300",
            "_view_module_version": "1.5.0",
            "layout": "IPY_MODEL_7c86f0e758394771bf9950d8b15ca637",
            "height": "400",
            "_model_module": "@jupyter-widgets/controls"
          }
        },
        "3ac956ba225043cb8ec01aefbf83f6f6": {
          "model_module": "@jupyter-widgets/base",
          "model_name": "LayoutModel",
          "model_module_version": "1.2.0",
          "state": {
            "_view_name": "LayoutView",
            "grid_template_rows": null,
            "right": null,
            "justify_content": null,
            "_view_module": "@jupyter-widgets/base",
            "overflow": null,
            "_model_module_version": "1.2.0",
            "_view_count": null,
            "flex_flow": null,
            "width": null,
            "min_width": null,
            "border": null,
            "align_items": null,
            "bottom": null,
            "_model_module": "@jupyter-widgets/base",
            "top": null,
            "grid_column": null,
            "overflow_y": null,
            "overflow_x": null,
            "grid_auto_flow": null,
            "grid_area": null,
            "grid_template_columns": null,
            "flex": null,
            "_model_name": "LayoutModel",
            "justify_items": null,
            "grid_row": null,
            "max_height": null,
            "align_content": null,
            "visibility": null,
            "align_self": null,
            "height": null,
            "min_height": null,
            "padding": null,
            "grid_auto_rows": null,
            "grid_gap": null,
            "max_width": null,
            "order": null,
            "_view_module_version": "1.2.0",
            "grid_template_areas": null,
            "object_position": null,
            "object_fit": null,
            "grid_auto_columns": null,
            "margin": null,
            "display": null,
            "left": null
          }
        },
        "7c86f0e758394771bf9950d8b15ca637": {
          "model_module": "@jupyter-widgets/base",
          "model_name": "LayoutModel",
          "model_module_version": "1.2.0",
          "state": {
            "_view_name": "LayoutView",
            "grid_template_rows": null,
            "right": null,
            "justify_content": null,
            "_view_module": "@jupyter-widgets/base",
            "overflow": null,
            "_model_module_version": "1.2.0",
            "_view_count": null,
            "flex_flow": null,
            "width": null,
            "min_width": null,
            "border": null,
            "align_items": null,
            "bottom": null,
            "_model_module": "@jupyter-widgets/base",
            "top": null,
            "grid_column": null,
            "overflow_y": null,
            "overflow_x": null,
            "grid_auto_flow": null,
            "grid_area": null,
            "grid_template_columns": null,
            "flex": null,
            "_model_name": "LayoutModel",
            "justify_items": null,
            "grid_row": null,
            "max_height": null,
            "align_content": null,
            "visibility": null,
            "align_self": null,
            "height": null,
            "min_height": null,
            "padding": null,
            "grid_auto_rows": null,
            "grid_gap": null,
            "max_width": null,
            "order": null,
            "_view_module_version": "1.2.0",
            "grid_template_areas": null,
            "object_position": null,
            "object_fit": null,
            "grid_auto_columns": null,
            "margin": null,
            "display": null,
            "left": null
          }
        }
      }
    }
  },
  "cells": [
    {
      "cell_type": "markdown",
      "metadata": {
        "id": "7dmwLGm98h9w"
      },
      "source": [
        "# Description of the final project\n",
        "\n",
        "## Introduction\n",
        "\n",
        "In this project, you are going to work with the dataset based on the census data extracted from the 1994 and 1995 current population surveys conducted by the U.S. Census Bureau. Your goal is to predict level of income of a person: \"- 50000\" (means less than \\$50k/year) or \"50000+\" (means more than \\$50k/year). The data is split into train (`train.csv`) and test (`test.csv`) parts. You should use train part to train the models, and test part to estimate their final quality. The best quality on the test dataset should be your final result.\n",
        "\n",
        "The description of the data is available here: https://archive.ics.uci.edu/ml/datasets/Census-Income+%28KDD%29\n",
        "\n",
        "_Citation:_\n",
        "\n",
        "* _Dua, D. and Graff, C. (2019). UCI Machine Learning Repository [http://archive.ics.uci.edu/ml]. Irvine, CA: University of California, School of Information and Computer Science._\n",
        "\n",
        "## Detailed Task Description\n",
        "\n",
        "The solution should have the following parts:\n",
        "\n",
        "### [25%] 1. Data exploration\n",
        "\n",
        "* 1.1. (8%) Which metric are you going to use to evaluate the performance of the model and why?\n",
        "* 1.2. (8%) Which validation strategy are you going to use and why? Apply it to the data on the preprocessing step\n",
        "* 1.3. (9%) Explore which features do you have, what is their distribution and connection to the target. Perform feature selection techniques such as PCA, and feature engineering, if necessary. Explain your decisions\n",
        "\n",
        "### [25%] 2. Data preprocessing\n",
        "\n",
        "* 2.1. (8%) Fill missing values (if there are any)\n",
        "* 2.2. (9%) Properly encode categorical features. Explain your choice of methods of categorical feature encoding\n",
        "* 2.3. (8%) Cluster observations and add cluster number as one of the features. Make sure that the clustering method has a good quality\n",
        "\n",
        "### [25%] 3. Model training\n",
        "\n",
        "* 3.1. (8%) Apply different techniques which can help to work with imbalanced data. You are supposed to try at least 2 techniques (in the end, you don't have to include them into your final pipeline - but you should explain why)\n",
        "* 3.2. (9%) Train different machine learning models, including the advanced boosting algorithms studied during the course. Carefully tune hyperparameters of the algorithms. You are supposed to compare at least 3 models\n",
        "* 3.3. (8%) Perform blending or stacking of the trained machine learning algorithms. Carefully tune the weights of the ensemble\n",
        "\n",
        "### [25%] 4. Summary\n",
        "\n",
        "* 4.1. (8%) Estimate the quality of the models and their ensemble on the test set. Describe the results. Which model is the best?\n",
        "* 4.2. (8%) Interpret the best single model and the ensemble. Use at least 2 model interpretation techniques. Explain, why your models have good quality (or bad quality)\n",
        "* 4.3. (9%) Summarize your results and write a conclusion. What have you found in the data, which techniques did you use? Which methods and models worked best in your task? Can you explain in simple words why should we trust your final model?\n",
        "\n",
        "### General Requirements\n",
        "\n",
        "* You should provide a solution in the form of the Jupyter Notebook with code cells and markdown cells (with text)\n",
        "* Make sure that the instructor can run all the cells to reproduce your results\n",
        "* Clearly answer each question, perform the required actions from the task. Explain your decisions if you choose to use some techniques\n",
        "* Support all your statements with calculations and plots. For instance, if you claim that the dataset does not have missing values, you need to provide the code which shows that the total number of missing values is zero"
      ]
    },
    {
      "cell_type": "code",
      "metadata": {
        "id": "CQa_3mK99eoD"
      },
      "source": [
        "import numpy as np\n",
        "import pandas as pd\n",
        "import matplotlib.pyplot as plt\n",
        "import seaborn as sns\n",
        "from sklearn import preprocessing\n",
        "from sklearn.decomposition import PCA\n",
        "from sklearn.metrics import f1_score, confusion_matrix\n",
        "from sklearn.model_selection import train_test_split, GridSearchCV\n",
        "from xgboost import  XGBClassifier\n",
        "from lightgbm import LGBMClassifier\n",
        "from sklearn.svm import SVC\n",
        "from imblearn.combine import SMOTETomek\n",
        "from imblearn.over_sampling import ADASYN\n",
        "\n"
      ],
      "execution_count": 2,
      "outputs": []
    },
    {
      "cell_type": "code",
      "metadata": {
        "colab": {
          "base_uri": "https://localhost:8080/"
        },
        "id": "HJ-Ky1RMob2U",
        "outputId": "d326d7ce-7d72-47b9-b9e1-a30f41f31b62"
      },
      "source": [
        "!pip3 install missingno\n",
        "import missingno as msno"
      ],
      "execution_count": 3,
      "outputs": [
        {
          "output_type": "stream",
          "name": "stdout",
          "text": [
            "Requirement already satisfied: missingno in /usr/local/lib/python3.7/dist-packages (0.5.0)\n",
            "Requirement already satisfied: numpy in /usr/local/lib/python3.7/dist-packages (from missingno) (1.19.5)\n",
            "Requirement already satisfied: scipy in /usr/local/lib/python3.7/dist-packages (from missingno) (1.4.1)\n",
            "Requirement already satisfied: seaborn in /usr/local/lib/python3.7/dist-packages (from missingno) (0.11.2)\n",
            "Requirement already satisfied: matplotlib in /usr/local/lib/python3.7/dist-packages (from missingno) (3.2.2)\n",
            "Requirement already satisfied: pyparsing!=2.0.4,!=2.1.2,!=2.1.6,>=2.0.1 in /usr/local/lib/python3.7/dist-packages (from matplotlib->missingno) (3.0.6)\n",
            "Requirement already satisfied: kiwisolver>=1.0.1 in /usr/local/lib/python3.7/dist-packages (from matplotlib->missingno) (1.3.2)\n",
            "Requirement already satisfied: cycler>=0.10 in /usr/local/lib/python3.7/dist-packages (from matplotlib->missingno) (0.11.0)\n",
            "Requirement already satisfied: python-dateutil>=2.1 in /usr/local/lib/python3.7/dist-packages (from matplotlib->missingno) (2.8.2)\n",
            "Requirement already satisfied: six>=1.5 in /usr/local/lib/python3.7/dist-packages (from python-dateutil>=2.1->matplotlib->missingno) (1.15.0)\n",
            "Requirement already satisfied: pandas>=0.23 in /usr/local/lib/python3.7/dist-packages (from seaborn->missingno) (1.1.5)\n",
            "Requirement already satisfied: pytz>=2017.2 in /usr/local/lib/python3.7/dist-packages (from pandas>=0.23->seaborn->missingno) (2018.9)\n"
          ]
        }
      ]
    },
    {
      "cell_type": "code",
      "metadata": {
        "colab": {
          "base_uri": "https://localhost:8080/"
        },
        "id": "qJstwQd4HCFS",
        "outputId": "4f32b397-90ea-461f-fd6d-d02a468ab84a"
      },
      "source": [
        "!pip3 install catboost"
      ],
      "execution_count": 4,
      "outputs": [
        {
          "output_type": "stream",
          "name": "stdout",
          "text": [
            "Requirement already satisfied: catboost in /usr/local/lib/python3.7/dist-packages (1.0.3)\n",
            "Requirement already satisfied: plotly in /usr/local/lib/python3.7/dist-packages (from catboost) (4.4.1)\n",
            "Requirement already satisfied: six in /usr/local/lib/python3.7/dist-packages (from catboost) (1.15.0)\n",
            "Requirement already satisfied: pandas>=0.24.0 in /usr/local/lib/python3.7/dist-packages (from catboost) (1.1.5)\n",
            "Requirement already satisfied: scipy in /usr/local/lib/python3.7/dist-packages (from catboost) (1.4.1)\n",
            "Requirement already satisfied: matplotlib in /usr/local/lib/python3.7/dist-packages (from catboost) (3.2.2)\n",
            "Requirement already satisfied: graphviz in /usr/local/lib/python3.7/dist-packages (from catboost) (0.10.1)\n",
            "Requirement already satisfied: numpy>=1.16.0 in /usr/local/lib/python3.7/dist-packages (from catboost) (1.19.5)\n",
            "Requirement already satisfied: pytz>=2017.2 in /usr/local/lib/python3.7/dist-packages (from pandas>=0.24.0->catboost) (2018.9)\n",
            "Requirement already satisfied: python-dateutil>=2.7.3 in /usr/local/lib/python3.7/dist-packages (from pandas>=0.24.0->catboost) (2.8.2)\n",
            "Requirement already satisfied: pyparsing!=2.0.4,!=2.1.2,!=2.1.6,>=2.0.1 in /usr/local/lib/python3.7/dist-packages (from matplotlib->catboost) (3.0.6)\n",
            "Requirement already satisfied: cycler>=0.10 in /usr/local/lib/python3.7/dist-packages (from matplotlib->catboost) (0.11.0)\n",
            "Requirement already satisfied: kiwisolver>=1.0.1 in /usr/local/lib/python3.7/dist-packages (from matplotlib->catboost) (1.3.2)\n",
            "Requirement already satisfied: retrying>=1.3.3 in /usr/local/lib/python3.7/dist-packages (from plotly->catboost) (1.3.3)\n"
          ]
        }
      ]
    },
    {
      "cell_type": "code",
      "metadata": {
        "id": "7sPoDzwkHvQ2",
        "colab": {
          "base_uri": "https://localhost:8080/"
        },
        "outputId": "5a6b81d1-9a51-46c2-b382-7571ff3d7dff"
      },
      "source": [
        "!pip install category_encoders"
      ],
      "execution_count": 5,
      "outputs": [
        {
          "output_type": "stream",
          "name": "stdout",
          "text": [
            "Requirement already satisfied: category_encoders in /usr/local/lib/python3.7/dist-packages (2.3.0)\n",
            "Requirement already satisfied: scikit-learn>=0.20.0 in /usr/local/lib/python3.7/dist-packages (from category_encoders) (1.0.1)\n",
            "Requirement already satisfied: numpy>=1.14.0 in /usr/local/lib/python3.7/dist-packages (from category_encoders) (1.19.5)\n",
            "Requirement already satisfied: patsy>=0.5.1 in /usr/local/lib/python3.7/dist-packages (from category_encoders) (0.5.2)\n",
            "Requirement already satisfied: pandas>=0.21.1 in /usr/local/lib/python3.7/dist-packages (from category_encoders) (1.1.5)\n",
            "Requirement already satisfied: scipy>=1.0.0 in /usr/local/lib/python3.7/dist-packages (from category_encoders) (1.4.1)\n",
            "Requirement already satisfied: statsmodels>=0.9.0 in /usr/local/lib/python3.7/dist-packages (from category_encoders) (0.10.2)\n",
            "Requirement already satisfied: python-dateutil>=2.7.3 in /usr/local/lib/python3.7/dist-packages (from pandas>=0.21.1->category_encoders) (2.8.2)\n",
            "Requirement already satisfied: pytz>=2017.2 in /usr/local/lib/python3.7/dist-packages (from pandas>=0.21.1->category_encoders) (2018.9)\n",
            "Requirement already satisfied: six in /usr/local/lib/python3.7/dist-packages (from patsy>=0.5.1->category_encoders) (1.15.0)\n",
            "Requirement already satisfied: threadpoolctl>=2.0.0 in /usr/local/lib/python3.7/dist-packages (from scikit-learn>=0.20.0->category_encoders) (3.0.0)\n",
            "Requirement already satisfied: joblib>=0.11 in /usr/local/lib/python3.7/dist-packages (from scikit-learn>=0.20.0->category_encoders) (1.1.0)\n"
          ]
        }
      ]
    },
    {
      "cell_type": "code",
      "metadata": {
        "colab": {
          "base_uri": "https://localhost:8080/"
        },
        "id": "K5Yx9r1WTQII",
        "outputId": "c5321b8c-4288-4938-85ff-557f554a5bd8"
      },
      "source": [
        "from category_encoders.cat_boost import CatBoostEncoder"
      ],
      "execution_count": 6,
      "outputs": [
        {
          "output_type": "stream",
          "name": "stderr",
          "text": [
            "/usr/local/lib/python3.7/dist-packages/statsmodels/tools/_testing.py:19: FutureWarning: pandas.util.testing is deprecated. Use the functions in the public API at pandas.testing instead.\n",
            "  import pandas.util.testing as tm\n"
          ]
        }
      ]
    },
    {
      "cell_type": "code",
      "metadata": {
        "colab": {
          "base_uri": "https://localhost:8080/"
        },
        "id": "HnAD_rMR-_a4",
        "outputId": "74b667fa-e34e-4ced-f94f-b49c40a4b7cb"
      },
      "source": [
        "from google.colab import drive\n",
        "drive.mount('/content/drive')"
      ],
      "execution_count": 7,
      "outputs": [
        {
          "output_type": "stream",
          "name": "stdout",
          "text": [
            "Drive already mounted at /content/drive; to attempt to forcibly remount, call drive.mount(\"/content/drive\", force_remount=True).\n"
          ]
        }
      ]
    },
    {
      "cell_type": "code",
      "metadata": {
        "colab": {
          "base_uri": "https://localhost:8080/"
        },
        "id": "PMVglhkAo3M-",
        "outputId": "49c2c44f-46c4-48c3-d74d-5dd9b196841d"
      },
      "source": [
        "with open(\"/content/drive/My Drive/ML/test.csv\", 'r') as f:\n",
        "  print(f.readline())\n"
      ],
      "execution_count": 8,
      "outputs": [
        {
          "output_type": "stream",
          "name": "stdout",
          "text": [
            "AAGE,ACLSWKR,ADTIND,ADTOCC,AHGA,AHRSPAY,AHSCOL,AMARITL,AMJIND,AMJOCC,ARACE,AREORGN,ASEX,AUNMEM,AUNTYPE,AWKSTAT,CAPGAIN,CAPLOSS,DIVVAL,FILESTAT,GRINREG,GRINST,HHDFMX,HHDREL,MIGMTR1,MIGMTR3,MIGMTR4,MIGSAME,MIGSUN,NOEMP,PARENT,PEFNTVTY,PEMNTVTY,PENATVTY,PRCITSHP,SEOTR,VETQVA,VETYN,WKSWORK,target\n",
            "\n"
          ]
        }
      ]
    },
    {
      "cell_type": "code",
      "metadata": {
        "id": "0eCzFeJT_gXU"
      },
      "source": [
        "test = pd.read_csv(\"/content/drive/My Drive/ML/test.csv\", na_values=\"?\", skipinitialspace=True)\n",
        "train = pd.read_csv(\"/content/drive/My Drive/ML/train.csv\", na_values= \"?\", skipinitialspace=True)"
      ],
      "execution_count": 9,
      "outputs": []
    },
    {
      "cell_type": "code",
      "metadata": {
        "colab": {
          "base_uri": "https://localhost:8080/"
        },
        "id": "HnTf1f3BS_BF",
        "outputId": "2deb4ed1-e84d-491f-ea0f-fe6f9e122e8b"
      },
      "source": [
        "train['target'].unique()"
      ],
      "execution_count": 10,
      "outputs": [
        {
          "output_type": "execute_result",
          "data": {
            "text/plain": [
              "array(['- 50000.', '50000+.'], dtype=object)"
            ]
          },
          "metadata": {},
          "execution_count": 10
        }
      ]
    },
    {
      "cell_type": "markdown",
      "metadata": {
        "id": "fiHY-q76SSgR"
      },
      "source": [
        "I will transform target feature to numeric\n",
        "\n",
        "1.   '- 50000.' -> 0\n",
        "2.   '50000+.' -> 1\n",
        "\n"
      ]
    },
    {
      "cell_type": "code",
      "metadata": {
        "id": "gzfuombkREMp"
      },
      "source": [
        "def to_binary_f(zero_f_name, one_f_name, df, column_name):\n",
        "  df[column_name].replace(zero_f_name, 0, inplace = True)\n",
        "  df[column_name].replace(one_f_name, 1, inplace = True)"
      ],
      "execution_count": 11,
      "outputs": []
    },
    {
      "cell_type": "code",
      "metadata": {
        "id": "g_TXs593SNa4"
      },
      "source": [
        "to_binary_f('- 50000.', '50000+.', train, 'target')\n",
        "to_binary_f('- 50000.', '50000+.', test, 'target')"
      ],
      "execution_count": 12,
      "outputs": []
    },
    {
      "cell_type": "code",
      "metadata": {
        "id": "ZIIWO7gZBPVT"
      },
      "source": [
        "#Dictionary to interpret variables' abbreviations\n",
        "#regexp used to find abbreviations '(.+?)\\s([A-Z0-9]*)$' replace '[\"\\2\",\"\\1\"],' \n",
        "feature_trl = {f[0]: f[1] for f in [[\"AAGE\",\"age\"],\n",
        "                                      [\"ACLSWKR\",\"class of worker\"],\n",
        "                                      [\"ADTIND\",\"industry code\"],\n",
        "                                      [\"ADTOCC\",\"occupation code\"],\n",
        "                                      [\"AGI\",\"adjusted gross income\"],\n",
        "                                      [\"AHGA\",\"education\"],\n",
        "                                      [\"AHRSPAY\",\"wage per hour\"],\n",
        "                                      [\"AHSCOL\",\"enrolled in edu inst last wk\"],\n",
        "                                      [\"AMARITL\",\"marital status\"],\n",
        "                                      [\"AMJIND\",\"major industry code\"],\n",
        "                                      [\"AMJOCC\",\"major occupation code\"],\n",
        "                                      [\"ARACE\",\"mace\"],\n",
        "                                      [\"AREORGN\",\"hispanic Origin\"],\n",
        "                                      [\"ASEX\",\"sex\"],\n",
        "                                      [\"AUNMEM\",\"member of a labor union\"],\n",
        "                                      [\"AUNTYPE\",\"reason for unemployment\"],\n",
        "                                      [\"AWKSTAT\",\"full or part time employment stat\"],\n",
        "                                      [\"CAPGAIN\",\"capital gains\"],\n",
        "                                      [\"CAPLOSS\",\"capital losses\"],\n",
        "                                      [\"DIVVAL\",\"divdends from stocks\"],\n",
        "                                      [\"FEDTAX\",\"federal income tax liability\"],\n",
        "                                      [\"FILESTAT\",\"tax filer status\"],\n",
        "                                      [\"GRINREG\",\"region of previous residence\"],\n",
        "                                      [\"GRINST\",\"state of previous residence\"],\n",
        "                                      [\"HHDFMX\",\"detailed household and family stat\"],\n",
        "                                      [\"HHDREL\",\"detailed household summary in household\"],\n",
        "                                      [\"MARSUPWT\",\"instance weight\"],\n",
        "                                      [\"MIGMTR1\",\"migration code-change in msa\"],\n",
        "                                      [\"MIGMTR3\",\"migration code-change in reg\"],\n",
        "                                      [\"MIGMTR4\",\"migration code-move within reg\"],\n",
        "                                      [\"MIGSAME\",\"live in this house 1 year ago\"],\n",
        "                                      [\"MIGSUN\",\"migration prev res in sunbelt\"],\n",
        "                                      [\"NOEMP\",\"num persons worked for employer\"],\n",
        "                                      [\"PARENT\",\"family members under 18\"],\n",
        "                                      [\"PEARNVAL\",\"total person earnings\"],\n",
        "                                      [\"PEFNTVTY\",\"country of birth father\"],\n",
        "                                      [\"PEMNTVTY\",\"country of birth mother\"],\n",
        "                                      [\"PENATVTY\",\"country of birth self\"],\n",
        "                                      [\"PRCITSHP\",\"citizenship\"],\n",
        "                                      [\"PTOTVAL\",\"total person income\"],\n",
        "                                      [\"SEOTR\",\"own business or self employed\"],\n",
        "                                      [\"TAXINC\",\"taxable income amount\"],\n",
        "                                      [\"VETQVA\",\"fill inc questionnaire for veteran's admin\"],\n",
        "                                      [\"VETYN\",\"veterans benefits\"],\n",
        "                                      [\"WKSWORK\",\"weeks worked in year\"]]}"
      ],
      "execution_count": 13,
      "outputs": []
    },
    {
      "cell_type": "markdown",
      "metadata": {
        "id": "t9gBlmqjO4mI"
      },
      "source": [
        "Our data is imbalanced. However, proportions of missing data in Train and Test are similar. "
      ]
    },
    {
      "cell_type": "markdown",
      "metadata": {
        "id": "yWca7Wq_16r4"
      },
      "source": [
        "<a id=1.1></a>\n",
        "**1.1 Metric** \\\\\n",
        "We have havely imbalanced data. That is why to evaluate the performances of models' I will use F1-score, becasue I want to optimise recall to rarely miss positive class and precision to increase confidence in what model labels as positive class."
      ]
    },
    {
      "cell_type": "markdown",
      "metadata": {
        "id": "SLHtyQ_TdH6D"
      },
      "source": [
        "**1.2 Validation strategy**\\\\\n",
        "For tuning hyperparameters of each midel I will use gread-search with cross-validation on train set. Also I will need to validate a meta-model for that I need to separate validation set in advace.\n"
      ]
    },
    {
      "cell_type": "code",
      "metadata": {
        "id": "Q0I_-76H0iNZ"
      },
      "source": [
        "X, y = train.copy(), train['target']\n",
        "X_test, y_test = test.copy(), test['target']\n",
        "X.drop('target', axis=1, inplace=True)\n",
        "X_test.drop('target', axis=1, inplace=True)"
      ],
      "execution_count": 14,
      "outputs": []
    },
    {
      "cell_type": "code",
      "metadata": {
        "id": "O-LyZlxHevIG"
      },
      "source": [
        "X_train, X_val, y_train, y_val = train_test_split(X, y, test_size=0.3, stratify=y)"
      ],
      "execution_count": 15,
      "outputs": []
    },
    {
      "cell_type": "code",
      "metadata": {
        "colab": {
          "base_uri": "https://localhost:8080/"
        },
        "id": "o2XdheNg04pm",
        "outputId": "01ac606c-694f-4dae-f9dd-2995e643977a"
      },
      "source": [
        "print('Positive class (50000+) proportion in TRAIN data:')\n",
        "round(y_train.value_counts()[1]/len(y_train), 3)"
      ],
      "execution_count": 16,
      "outputs": [
        {
          "output_type": "stream",
          "name": "stdout",
          "text": [
            "Positive class (50000+) proportion in TRAIN data:\n"
          ]
        },
        {
          "output_type": "execute_result",
          "data": {
            "text/plain": [
              "0.062"
            ]
          },
          "metadata": {},
          "execution_count": 16
        }
      ]
    },
    {
      "cell_type": "code",
      "metadata": {
        "colab": {
          "base_uri": "https://localhost:8080/"
        },
        "id": "LN8Q36Nsfp70",
        "outputId": "68491e0a-3dc2-4783-d0e6-73c3142b377f"
      },
      "source": [
        "print('Positive class (50000+) proportion in VALIDATION data:')\n",
        "round(y_val.value_counts()[1]/len(y_val), 3)"
      ],
      "execution_count": 17,
      "outputs": [
        {
          "output_type": "stream",
          "name": "stdout",
          "text": [
            "Positive class (50000+) proportion in VALIDATION data:\n"
          ]
        },
        {
          "output_type": "execute_result",
          "data": {
            "text/plain": [
              "0.062"
            ]
          },
          "metadata": {},
          "execution_count": 17
        }
      ]
    },
    {
      "cell_type": "code",
      "metadata": {
        "colab": {
          "base_uri": "https://localhost:8080/"
        },
        "id": "VWb0A4oU083U",
        "outputId": "9fb157a8-7a4f-409e-98c6-085d41346a95"
      },
      "source": [
        "print('Positive class (50000+) proportion in TEST data:')\n",
        "round(y_test.value_counts()[1]/len(y_test),3)"
      ],
      "execution_count": 18,
      "outputs": [
        {
          "output_type": "stream",
          "name": "stdout",
          "text": [
            "Positive class (50000+) proportion in TEST data:\n"
          ]
        },
        {
          "output_type": "execute_result",
          "data": {
            "text/plain": [
              "0.062"
            ]
          },
          "metadata": {},
          "execution_count": 18
        }
      ]
    },
    {
      "cell_type": "markdown",
      "metadata": {
        "id": "hdELG5uQmoJ4"
      },
      "source": [
        "**Exploring data**"
      ]
    },
    {
      "cell_type": "code",
      "metadata": {
        "colab": {
          "base_uri": "https://localhost:8080/",
          "height": 563
        },
        "id": "Lh891bL8rGJ1",
        "outputId": "ef22fc2f-f85b-400f-c234-a37d908d627d"
      },
      "source": [
        "X_train.head()"
      ],
      "execution_count": 19,
      "outputs": [
        {
          "output_type": "execute_result",
          "data": {
            "text/html": [
              "<div>\n",
              "<style scoped>\n",
              "    .dataframe tbody tr th:only-of-type {\n",
              "        vertical-align: middle;\n",
              "    }\n",
              "\n",
              "    .dataframe tbody tr th {\n",
              "        vertical-align: top;\n",
              "    }\n",
              "\n",
              "    .dataframe thead th {\n",
              "        text-align: right;\n",
              "    }\n",
              "</style>\n",
              "<table border=\"1\" class=\"dataframe\">\n",
              "  <thead>\n",
              "    <tr style=\"text-align: right;\">\n",
              "      <th></th>\n",
              "      <th>AAGE</th>\n",
              "      <th>ACLSWKR</th>\n",
              "      <th>ADTIND</th>\n",
              "      <th>ADTOCC</th>\n",
              "      <th>AHGA</th>\n",
              "      <th>AHRSPAY</th>\n",
              "      <th>AHSCOL</th>\n",
              "      <th>AMARITL</th>\n",
              "      <th>AMJIND</th>\n",
              "      <th>AMJOCC</th>\n",
              "      <th>ARACE</th>\n",
              "      <th>AREORGN</th>\n",
              "      <th>ASEX</th>\n",
              "      <th>AUNMEM</th>\n",
              "      <th>AUNTYPE</th>\n",
              "      <th>AWKSTAT</th>\n",
              "      <th>CAPGAIN</th>\n",
              "      <th>CAPLOSS</th>\n",
              "      <th>DIVVAL</th>\n",
              "      <th>FILESTAT</th>\n",
              "      <th>GRINREG</th>\n",
              "      <th>GRINST</th>\n",
              "      <th>HHDFMX</th>\n",
              "      <th>HHDREL</th>\n",
              "      <th>MIGMTR1</th>\n",
              "      <th>MIGMTR3</th>\n",
              "      <th>MIGMTR4</th>\n",
              "      <th>MIGSAME</th>\n",
              "      <th>MIGSUN</th>\n",
              "      <th>NOEMP</th>\n",
              "      <th>PARENT</th>\n",
              "      <th>PEFNTVTY</th>\n",
              "      <th>PEMNTVTY</th>\n",
              "      <th>PENATVTY</th>\n",
              "      <th>PRCITSHP</th>\n",
              "      <th>SEOTR</th>\n",
              "      <th>VETQVA</th>\n",
              "      <th>VETYN</th>\n",
              "      <th>WKSWORK</th>\n",
              "    </tr>\n",
              "  </thead>\n",
              "  <tbody>\n",
              "    <tr>\n",
              "      <th>194010</th>\n",
              "      <td>8</td>\n",
              "      <td>Not in universe</td>\n",
              "      <td>0</td>\n",
              "      <td>0</td>\n",
              "      <td>Children</td>\n",
              "      <td>0</td>\n",
              "      <td>Not in universe</td>\n",
              "      <td>Never married</td>\n",
              "      <td>Not in universe or children</td>\n",
              "      <td>Not in universe</td>\n",
              "      <td>Black</td>\n",
              "      <td>All other</td>\n",
              "      <td>Female</td>\n",
              "      <td>Not in universe</td>\n",
              "      <td>Not in universe</td>\n",
              "      <td>Children or Armed Forces</td>\n",
              "      <td>0</td>\n",
              "      <td>0</td>\n",
              "      <td>0</td>\n",
              "      <td>Nonfiler</td>\n",
              "      <td>Not in universe</td>\n",
              "      <td>Not in universe</td>\n",
              "      <td>Grandchild &lt;18 never marr child of subfamily RP</td>\n",
              "      <td>Other relative of householder</td>\n",
              "      <td>NaN</td>\n",
              "      <td>NaN</td>\n",
              "      <td>NaN</td>\n",
              "      <td>Not in universe under 1 year old</td>\n",
              "      <td>NaN</td>\n",
              "      <td>0</td>\n",
              "      <td>Mother only present</td>\n",
              "      <td>United-States</td>\n",
              "      <td>United-States</td>\n",
              "      <td>United-States</td>\n",
              "      <td>Native- Born in the United States</td>\n",
              "      <td>0</td>\n",
              "      <td>Not in universe</td>\n",
              "      <td>0</td>\n",
              "      <td>0</td>\n",
              "    </tr>\n",
              "    <tr>\n",
              "      <th>65898</th>\n",
              "      <td>19</td>\n",
              "      <td>Private</td>\n",
              "      <td>33</td>\n",
              "      <td>16</td>\n",
              "      <td>High school graduate</td>\n",
              "      <td>0</td>\n",
              "      <td>Not in universe</td>\n",
              "      <td>Never married</td>\n",
              "      <td>Retail trade</td>\n",
              "      <td>Sales</td>\n",
              "      <td>Black</td>\n",
              "      <td>All other</td>\n",
              "      <td>Male</td>\n",
              "      <td>Not in universe</td>\n",
              "      <td>Other job loser</td>\n",
              "      <td>Unemployed part- time</td>\n",
              "      <td>2176</td>\n",
              "      <td>0</td>\n",
              "      <td>0</td>\n",
              "      <td>Single</td>\n",
              "      <td>Not in universe</td>\n",
              "      <td>Not in universe</td>\n",
              "      <td>Nonfamily householder</td>\n",
              "      <td>Householder</td>\n",
              "      <td>NaN</td>\n",
              "      <td>NaN</td>\n",
              "      <td>NaN</td>\n",
              "      <td>Not in universe under 1 year old</td>\n",
              "      <td>NaN</td>\n",
              "      <td>6</td>\n",
              "      <td>Not in universe</td>\n",
              "      <td>United-States</td>\n",
              "      <td>United-States</td>\n",
              "      <td>United-States</td>\n",
              "      <td>Native- Born in the United States</td>\n",
              "      <td>2</td>\n",
              "      <td>Not in universe</td>\n",
              "      <td>2</td>\n",
              "      <td>20</td>\n",
              "    </tr>\n",
              "    <tr>\n",
              "      <th>186025</th>\n",
              "      <td>17</td>\n",
              "      <td>Federal government</td>\n",
              "      <td>50</td>\n",
              "      <td>31</td>\n",
              "      <td>10th grade</td>\n",
              "      <td>0</td>\n",
              "      <td>High school</td>\n",
              "      <td>Never married</td>\n",
              "      <td>Public administration</td>\n",
              "      <td>Other service</td>\n",
              "      <td>White</td>\n",
              "      <td>All other</td>\n",
              "      <td>Male</td>\n",
              "      <td>Not in universe</td>\n",
              "      <td>Re-entrant</td>\n",
              "      <td>Unemployed full-time</td>\n",
              "      <td>0</td>\n",
              "      <td>0</td>\n",
              "      <td>0</td>\n",
              "      <td>Nonfiler</td>\n",
              "      <td>Not in universe</td>\n",
              "      <td>Not in universe</td>\n",
              "      <td>Child &lt;18 never marr not in subfamily</td>\n",
              "      <td>Child under 18 never married</td>\n",
              "      <td>NaN</td>\n",
              "      <td>NaN</td>\n",
              "      <td>NaN</td>\n",
              "      <td>Not in universe under 1 year old</td>\n",
              "      <td>NaN</td>\n",
              "      <td>0</td>\n",
              "      <td>Mother only present</td>\n",
              "      <td>United-States</td>\n",
              "      <td>United-States</td>\n",
              "      <td>United-States</td>\n",
              "      <td>Native- Born in the United States</td>\n",
              "      <td>0</td>\n",
              "      <td>Not in universe</td>\n",
              "      <td>2</td>\n",
              "      <td>0</td>\n",
              "    </tr>\n",
              "    <tr>\n",
              "      <th>96233</th>\n",
              "      <td>14</td>\n",
              "      <td>Not in universe</td>\n",
              "      <td>0</td>\n",
              "      <td>0</td>\n",
              "      <td>Children</td>\n",
              "      <td>0</td>\n",
              "      <td>Not in universe</td>\n",
              "      <td>Never married</td>\n",
              "      <td>Not in universe or children</td>\n",
              "      <td>Not in universe</td>\n",
              "      <td>White</td>\n",
              "      <td>All other</td>\n",
              "      <td>Male</td>\n",
              "      <td>Not in universe</td>\n",
              "      <td>Not in universe</td>\n",
              "      <td>Children or Armed Forces</td>\n",
              "      <td>0</td>\n",
              "      <td>0</td>\n",
              "      <td>0</td>\n",
              "      <td>Nonfiler</td>\n",
              "      <td>Not in universe</td>\n",
              "      <td>Not in universe</td>\n",
              "      <td>Child &lt;18 never marr not in subfamily</td>\n",
              "      <td>Child under 18 never married</td>\n",
              "      <td>Nonmover</td>\n",
              "      <td>Nonmover</td>\n",
              "      <td>Nonmover</td>\n",
              "      <td>Yes</td>\n",
              "      <td>Not in universe</td>\n",
              "      <td>0</td>\n",
              "      <td>Both parents present</td>\n",
              "      <td>United-States</td>\n",
              "      <td>United-States</td>\n",
              "      <td>United-States</td>\n",
              "      <td>Native- Born in the United States</td>\n",
              "      <td>0</td>\n",
              "      <td>Not in universe</td>\n",
              "      <td>0</td>\n",
              "      <td>0</td>\n",
              "    </tr>\n",
              "    <tr>\n",
              "      <th>179074</th>\n",
              "      <td>33</td>\n",
              "      <td>Private</td>\n",
              "      <td>29</td>\n",
              "      <td>38</td>\n",
              "      <td>Associates degree-occup /vocational</td>\n",
              "      <td>1800</td>\n",
              "      <td>Not in universe</td>\n",
              "      <td>Married-civilian spouse present</td>\n",
              "      <td>Transportation</td>\n",
              "      <td>Transportation and material moving</td>\n",
              "      <td>White</td>\n",
              "      <td>All other</td>\n",
              "      <td>Male</td>\n",
              "      <td>Yes</td>\n",
              "      <td>Not in universe</td>\n",
              "      <td>Full-time schedules</td>\n",
              "      <td>7688</td>\n",
              "      <td>0</td>\n",
              "      <td>0</td>\n",
              "      <td>Joint both under 65</td>\n",
              "      <td>Not in universe</td>\n",
              "      <td>Not in universe</td>\n",
              "      <td>Householder</td>\n",
              "      <td>Householder</td>\n",
              "      <td>NaN</td>\n",
              "      <td>NaN</td>\n",
              "      <td>NaN</td>\n",
              "      <td>Not in universe under 1 year old</td>\n",
              "      <td>NaN</td>\n",
              "      <td>6</td>\n",
              "      <td>Not in universe</td>\n",
              "      <td>Italy</td>\n",
              "      <td>Ireland</td>\n",
              "      <td>United-States</td>\n",
              "      <td>Native- Born in the United States</td>\n",
              "      <td>0</td>\n",
              "      <td>Not in universe</td>\n",
              "      <td>2</td>\n",
              "      <td>52</td>\n",
              "    </tr>\n",
              "  </tbody>\n",
              "</table>\n",
              "</div>"
            ],
            "text/plain": [
              "        AAGE             ACLSWKR  ADTIND  ...           VETQVA VETYN  WKSWORK\n",
              "194010     8     Not in universe       0  ...  Not in universe     0        0\n",
              "65898     19             Private      33  ...  Not in universe     2       20\n",
              "186025    17  Federal government      50  ...  Not in universe     2        0\n",
              "96233     14     Not in universe       0  ...  Not in universe     0        0\n",
              "179074    33             Private      29  ...  Not in universe     2       52\n",
              "\n",
              "[5 rows x 39 columns]"
            ]
          },
          "metadata": {},
          "execution_count": 19
        }
      ]
    },
    {
      "cell_type": "markdown",
      "metadata": {
        "id": "N8kb_gBM-bsJ"
      },
      "source": [
        "**1.3 Feature exploration**"
      ]
    },
    {
      "cell_type": "markdown",
      "metadata": {
        "id": "2fAl0i7VUGFI"
      },
      "source": [
        "Numerical features"
      ]
    },
    {
      "cell_type": "code",
      "metadata": {
        "colab": {
          "base_uri": "https://localhost:8080/"
        },
        "id": "tITnisXM7cVx",
        "outputId": "b3f9040a-394f-4d31-a57e-377baa63c44e"
      },
      "source": [
        "num_feat = list(X_train.columns[X_train.dtypes == 'int64'])\n",
        "print(f'Numerical features are:')\n",
        "for i in num_feat:\n",
        "  print(i, '-', feature_trl[i])"
      ],
      "execution_count": 20,
      "outputs": [
        {
          "output_type": "stream",
          "name": "stdout",
          "text": [
            "Numerical features are:\n",
            "AAGE - age\n",
            "ADTIND - industry code\n",
            "ADTOCC - occupation code\n",
            "AHRSPAY - wage per hour\n",
            "CAPGAIN - capital gains\n",
            "CAPLOSS - capital losses\n",
            "DIVVAL - divdends from stocks\n",
            "NOEMP - num persons worked for employer\n",
            "SEOTR - own business or self employed\n",
            "VETYN - veterans benefits\n",
            "WKSWORK - weeks worked in year\n"
          ]
        }
      ]
    },
    {
      "cell_type": "code",
      "metadata": {
        "colab": {
          "base_uri": "https://localhost:8080/"
        },
        "id": "Jedvx9LPQV5s",
        "outputId": "e45c6b22-1cb9-4c86-b82e-95a35feeeaeb"
      },
      "source": [
        "X_train[num_feat].isnull().sum()"
      ],
      "execution_count": 21,
      "outputs": [
        {
          "output_type": "execute_result",
          "data": {
            "text/plain": [
              "AAGE       0\n",
              "ADTIND     0\n",
              "ADTOCC     0\n",
              "AHRSPAY    0\n",
              "CAPGAIN    0\n",
              "CAPLOSS    0\n",
              "DIVVAL     0\n",
              "NOEMP      0\n",
              "SEOTR      0\n",
              "VETYN      0\n",
              "WKSWORK    0\n",
              "dtype: int64"
            ]
          },
          "metadata": {},
          "execution_count": 21
        }
      ]
    },
    {
      "cell_type": "markdown",
      "metadata": {
        "id": "EXWEAIilQk8z"
      },
      "source": [
        "There are no missing values in numerical columns"
      ]
    },
    {
      "cell_type": "markdown",
      "metadata": {
        "id": "aVmEX23zUYma"
      },
      "source": [
        "Let us examine distrubution of numerical features"
      ]
    },
    {
      "cell_type": "code",
      "metadata": {
        "colab": {
          "base_uri": "https://localhost:8080/",
          "height": 879
        },
        "id": "ut29coK1-kRY",
        "outputId": "164b4560-33e1-43c2-ba60-9d538ce20d7e"
      },
      "source": [
        "X_train.hist(figsize=(15,15))\n",
        "plt.show()"
      ],
      "execution_count": 22,
      "outputs": [
        {
          "output_type": "display_data",
          "data": {
            "image/png": "[encoded data removed]",
            "text/plain": [
              "<Figure size 1080x1080 with 12 Axes>"
            ]
          },
          "metadata": {
            "needs_background": "light"
          }
        }
      ]
    },
    {
      "cell_type": "code",
      "metadata": {
        "id": "2NlFlrhmA5gr"
      },
      "source": [
        "scaler = preprocessing.StandardScaler()\n",
        "scaled_num = pd.DataFrame(scaler.fit_transform(X_train[num_feat]), columns=num_feat)"
      ],
      "execution_count": 23,
      "outputs": []
    },
    {
      "cell_type": "code",
      "metadata": {
        "colab": {
          "base_uri": "https://localhost:8080/"
        },
        "id": "8u7L4R8wiEmS",
        "outputId": "e224c1bc-1ce3-4538-cf85-12f33ef1eb5f"
      },
      "source": [
        "scaled_num.shape"
      ],
      "execution_count": 24,
      "outputs": [
        {
          "output_type": "execute_result",
          "data": {
            "text/plain": [
              "(139666, 11)"
            ]
          },
          "metadata": {},
          "execution_count": 24
        }
      ]
    },
    {
      "cell_type": "code",
      "metadata": {
        "id": "PzhLjFBL_tyh"
      },
      "source": [
        "scaled_num_t = scaled_num.join(pd.DataFrame(y_train).reset_index())"
      ],
      "execution_count": 25,
      "outputs": []
    },
    {
      "cell_type": "code",
      "metadata": {
        "colab": {
          "base_uri": "https://localhost:8080/",
          "height": 419
        },
        "id": "cxYn7cy1isQ3",
        "outputId": "900b5887-d15b-41f8-d6c2-4e8fbdcb9f33"
      },
      "source": [
        "scaled_num_t"
      ],
      "execution_count": 26,
      "outputs": [
        {
          "output_type": "execute_result",
          "data": {
            "text/html": [
              "<div>\n",
              "<style scoped>\n",
              "    .dataframe tbody tr th:only-of-type {\n",
              "        vertical-align: middle;\n",
              "    }\n",
              "\n",
              "    .dataframe tbody tr th {\n",
              "        vertical-align: top;\n",
              "    }\n",
              "\n",
              "    .dataframe thead th {\n",
              "        text-align: right;\n",
              "    }\n",
              "</style>\n",
              "<table border=\"1\" class=\"dataframe\">\n",
              "  <thead>\n",
              "    <tr style=\"text-align: right;\">\n",
              "      <th></th>\n",
              "      <th>AAGE</th>\n",
              "      <th>ADTIND</th>\n",
              "      <th>ADTOCC</th>\n",
              "      <th>AHRSPAY</th>\n",
              "      <th>CAPGAIN</th>\n",
              "      <th>CAPLOSS</th>\n",
              "      <th>DIVVAL</th>\n",
              "      <th>NOEMP</th>\n",
              "      <th>SEOTR</th>\n",
              "      <th>VETYN</th>\n",
              "      <th>WKSWORK</th>\n",
              "      <th>index</th>\n",
              "      <th>target</th>\n",
              "    </tr>\n",
              "  </thead>\n",
              "  <tbody>\n",
              "    <tr>\n",
              "      <th>0</th>\n",
              "      <td>-1.188445</td>\n",
              "      <td>-0.850063</td>\n",
              "      <td>-0.782308</td>\n",
              "      <td>-0.203305</td>\n",
              "      <td>-0.092675</td>\n",
              "      <td>-0.138526</td>\n",
              "      <td>-0.099350</td>\n",
              "      <td>-0.828090</td>\n",
              "      <td>-0.317014</td>\n",
              "      <td>-1.780396</td>\n",
              "      <td>-0.949931</td>\n",
              "      <td>194010</td>\n",
              "      <td>0</td>\n",
              "    </tr>\n",
              "    <tr>\n",
              "      <th>1</th>\n",
              "      <td>-0.694608</td>\n",
              "      <td>0.976166</td>\n",
              "      <td>0.324092</td>\n",
              "      <td>-0.203305</td>\n",
              "      <td>0.368131</td>\n",
              "      <td>-0.138526</td>\n",
              "      <td>-0.099350</td>\n",
              "      <td>1.707484</td>\n",
              "      <td>3.294267</td>\n",
              "      <td>0.569506</td>\n",
              "      <td>-0.131009</td>\n",
              "      <td>65898</td>\n",
              "      <td>0</td>\n",
              "    </tr>\n",
              "    <tr>\n",
              "      <th>2</th>\n",
              "      <td>-0.784397</td>\n",
              "      <td>1.916951</td>\n",
              "      <td>1.361341</td>\n",
              "      <td>-0.203305</td>\n",
              "      <td>-0.092675</td>\n",
              "      <td>-0.138526</td>\n",
              "      <td>-0.099350</td>\n",
              "      <td>-0.828090</td>\n",
              "      <td>-0.317014</td>\n",
              "      <td>0.569506</td>\n",
              "      <td>-0.949931</td>\n",
              "      <td>186025</td>\n",
              "      <td>0</td>\n",
              "    </tr>\n",
              "    <tr>\n",
              "      <th>3</th>\n",
              "      <td>-0.919079</td>\n",
              "      <td>-0.850063</td>\n",
              "      <td>-0.782308</td>\n",
              "      <td>-0.203305</td>\n",
              "      <td>-0.092675</td>\n",
              "      <td>-0.138526</td>\n",
              "      <td>-0.099350</td>\n",
              "      <td>-0.828090</td>\n",
              "      <td>-0.317014</td>\n",
              "      <td>-1.780396</td>\n",
              "      <td>-0.949931</td>\n",
              "      <td>96233</td>\n",
              "      <td>0</td>\n",
              "    </tr>\n",
              "    <tr>\n",
              "      <th>4</th>\n",
              "      <td>-0.066090</td>\n",
              "      <td>0.754805</td>\n",
              "      <td>1.845391</td>\n",
              "      <td>6.332126</td>\n",
              "      <td>1.535394</td>\n",
              "      <td>-0.138526</td>\n",
              "      <td>-0.099350</td>\n",
              "      <td>1.707484</td>\n",
              "      <td>-0.317014</td>\n",
              "      <td>0.569506</td>\n",
              "      <td>1.179266</td>\n",
              "      <td>179074</td>\n",
              "      <td>0</td>\n",
              "    </tr>\n",
              "    <tr>\n",
              "      <th>...</th>\n",
              "      <td>...</td>\n",
              "      <td>...</td>\n",
              "      <td>...</td>\n",
              "      <td>...</td>\n",
              "      <td>...</td>\n",
              "      <td>...</td>\n",
              "      <td>...</td>\n",
              "      <td>...</td>\n",
              "      <td>...</td>\n",
              "      <td>...</td>\n",
              "      <td>...</td>\n",
              "      <td>...</td>\n",
              "      <td>...</td>\n",
              "    </tr>\n",
              "    <tr>\n",
              "      <th>139661</th>\n",
              "      <td>-0.200772</td>\n",
              "      <td>1.418889</td>\n",
              "      <td>-0.229108</td>\n",
              "      <td>-0.203305</td>\n",
              "      <td>-0.092675</td>\n",
              "      <td>-0.138526</td>\n",
              "      <td>-0.076502</td>\n",
              "      <td>0.862293</td>\n",
              "      <td>-0.317014</td>\n",
              "      <td>0.569506</td>\n",
              "      <td>1.179266</td>\n",
              "      <td>153653</td>\n",
              "      <td>0</td>\n",
              "    </tr>\n",
              "    <tr>\n",
              "      <th>139662</th>\n",
              "      <td>0.113487</td>\n",
              "      <td>0.367423</td>\n",
              "      <td>1.707091</td>\n",
              "      <td>-0.203305</td>\n",
              "      <td>-0.092675</td>\n",
              "      <td>-0.138526</td>\n",
              "      <td>-0.099350</td>\n",
              "      <td>-0.405494</td>\n",
              "      <td>-0.317014</td>\n",
              "      <td>0.569506</td>\n",
              "      <td>1.179266</td>\n",
              "      <td>62042</td>\n",
              "      <td>0</td>\n",
              "    </tr>\n",
              "    <tr>\n",
              "      <th>139663</th>\n",
              "      <td>-1.143550</td>\n",
              "      <td>-0.850063</td>\n",
              "      <td>-0.782308</td>\n",
              "      <td>-0.203305</td>\n",
              "      <td>-0.092675</td>\n",
              "      <td>-0.138526</td>\n",
              "      <td>-0.099350</td>\n",
              "      <td>-0.828090</td>\n",
              "      <td>-0.317014</td>\n",
              "      <td>-1.780396</td>\n",
              "      <td>-0.949931</td>\n",
              "      <td>83748</td>\n",
              "      <td>0</td>\n",
              "    </tr>\n",
              "    <tr>\n",
              "      <th>139664</th>\n",
              "      <td>-1.188445</td>\n",
              "      <td>-0.850063</td>\n",
              "      <td>-0.782308</td>\n",
              "      <td>-0.203305</td>\n",
              "      <td>-0.092675</td>\n",
              "      <td>-0.138526</td>\n",
              "      <td>-0.099350</td>\n",
              "      <td>-0.828090</td>\n",
              "      <td>-0.317014</td>\n",
              "      <td>-1.780396</td>\n",
              "      <td>-0.949931</td>\n",
              "      <td>128387</td>\n",
              "      <td>0</td>\n",
              "    </tr>\n",
              "    <tr>\n",
              "      <th>139665</th>\n",
              "      <td>-0.200772</td>\n",
              "      <td>1.474229</td>\n",
              "      <td>0.116642</td>\n",
              "      <td>-0.203305</td>\n",
              "      <td>-0.092675</td>\n",
              "      <td>-0.138526</td>\n",
              "      <td>-0.099350</td>\n",
              "      <td>1.707484</td>\n",
              "      <td>-0.317014</td>\n",
              "      <td>0.569506</td>\n",
              "      <td>1.179266</td>\n",
              "      <td>195031</td>\n",
              "      <td>0</td>\n",
              "    </tr>\n",
              "  </tbody>\n",
              "</table>\n",
              "<p>139666 rows × 13 columns</p>\n",
              "</div>"
            ],
            "text/plain": [
              "            AAGE    ADTIND    ADTOCC  ...   WKSWORK   index  target\n",
              "0      -1.188445 -0.850063 -0.782308  ... -0.949931  194010       0\n",
              "1      -0.694608  0.976166  0.324092  ... -0.131009   65898       0\n",
              "2      -0.784397  1.916951  1.361341  ... -0.949931  186025       0\n",
              "3      -0.919079 -0.850063 -0.782308  ... -0.949931   96233       0\n",
              "4      -0.066090  0.754805  1.845391  ...  1.179266  179074       0\n",
              "...          ...       ...       ...  ...       ...     ...     ...\n",
              "139661 -0.200772  1.418889 -0.229108  ...  1.179266  153653       0\n",
              "139662  0.113487  0.367423  1.707091  ...  1.179266   62042       0\n",
              "139663 -1.143550 -0.850063 -0.782308  ... -0.949931   83748       0\n",
              "139664 -1.188445 -0.850063 -0.782308  ... -0.949931  128387       0\n",
              "139665 -0.200772  1.474229  0.116642  ...  1.179266  195031       0\n",
              "\n",
              "[139666 rows x 13 columns]"
            ]
          },
          "metadata": {},
          "execution_count": 26
        }
      ]
    },
    {
      "cell_type": "markdown",
      "metadata": {
        "id": "XCWd6chDUfpJ"
      },
      "source": [
        "Correlation of features with each other and with target:\n",
        "\n",
        "---\n",
        "\n"
      ]
    },
    {
      "cell_type": "code",
      "metadata": {
        "colab": {
          "base_uri": "https://localhost:8080/",
          "height": 635
        },
        "id": "A89_q5QhQxwj",
        "outputId": "513c81e4-6ff7-4e53-c32a-aff4de4a1762"
      },
      "source": [
        "plt.figure(figsize=(10,10))\n",
        "\n",
        "corr_matrix = scaled_num_t.corr()\n",
        "lower = corr_matrix.where(np.tril(np.ones(corr_matrix.shape), k=-1).astype(np.bool))\n",
        "\n",
        "sns.heatmap(lower, annot=True, fmt='.2f', cbar=True, center=0);"
      ],
      "execution_count": 27,
      "outputs": [
        {
          "output_type": "display_data",
          "data": {
            "image/png": "[encoded data removed]",
            "text/plain": [
              "<Figure size 720x720 with 2 Axes>"
            ]
          },
          "metadata": {
            "needs_background": "light"
          }
        }
      ]
    },
    {
      "cell_type": "markdown",
      "metadata": {
        "id": "pUKgPlJvaYZe"
      },
      "source": [
        "From the correlation matrix we can guess that 'ADTOCC', 'AHRSPAY', 'SEOTR' are not useful for target prediction."
      ]
    },
    {
      "cell_type": "code",
      "metadata": {
        "colab": {
          "base_uri": "https://localhost:8080/"
        },
        "id": "aHuf2xora5DU",
        "outputId": "7fca58bb-e860-4d21-c3bb-56602dd63465"
      },
      "source": [
        "for ft in ['ADTOCC', 'AHRSPAY', 'SEOTR' ]:\n",
        "  print(feature_trl[ft])"
      ],
      "execution_count": 28,
      "outputs": [
        {
          "output_type": "stream",
          "name": "stdout",
          "text": [
            "occupation code\n",
            "wage per hour\n",
            "own business or self employed\n"
          ]
        }
      ]
    },
    {
      "cell_type": "markdown",
      "metadata": {
        "id": "XHdyA0n7bkN-"
      },
      "source": [
        "Candidate columns for dropping are 'ADTOCC', 'AHRSPAY', 'SEOTR' which are 'occupation code', 'wage per hour' and 'own business or self employed' respectivly."
      ]
    },
    {
      "cell_type": "code",
      "metadata": {
        "id": "_nr6H9uI-EWw"
      },
      "source": [
        "drop_num = ['ADTOCC', 'AHRSPAY', 'SEOTR']"
      ],
      "execution_count": 29,
      "outputs": []
    },
    {
      "cell_type": "markdown",
      "metadata": {
        "id": "iEbrrmueb8XW"
      },
      "source": [
        "Next I will select features that correlate the most between each other:"
      ]
    },
    {
      "cell_type": "code",
      "metadata": {
        "id": "amHxCr39V-Aw"
      },
      "source": [
        "strong_corr= set()\n",
        "corr_cut_off = 0.7\n",
        "for f_one, f_two in lower.to_dict().items():\n",
        "  for key, val in f_two.items():\n",
        "    if val > corr_cut_off:\n",
        "      strong_corr.add(((f_one, key),val))\n"
      ],
      "execution_count": 30,
      "outputs": []
    },
    {
      "cell_type": "code",
      "metadata": {
        "colab": {
          "base_uri": "https://localhost:8080/"
        },
        "id": "Jt8EbQPjZMkW",
        "outputId": "660191ad-7be1-413f-d96f-61d914081804"
      },
      "source": [
        "strong_corr"
      ],
      "execution_count": 31,
      "outputs": [
        {
          "output_type": "execute_result",
          "data": {
            "text/plain": [
              "{(('ADTIND', 'WKSWORK'), 0.7537173056256038),\n",
              " (('NOEMP', 'WKSWORK'), 0.7471944122609123)}"
            ]
          },
          "metadata": {},
          "execution_count": 31
        }
      ]
    },
    {
      "cell_type": "code",
      "metadata": {
        "colab": {
          "base_uri": "https://localhost:8080/"
        },
        "id": "iWhEEufiZbX5",
        "outputId": "983a8153-9481-4650-a3a3-50aaf622d7e4"
      },
      "source": [
        "#to undersatnd what values are correlated\n",
        "for fs, val in strong_corr:\n",
        "  print(f\"{fs[0]}: '{feature_trl[fs[0]]}' - {fs[1]}: '{feature_trl[fs[1]]}'\")"
      ],
      "execution_count": 32,
      "outputs": [
        {
          "output_type": "stream",
          "name": "stdout",
          "text": [
            "NOEMP: 'num persons worked for employer' - WKSWORK: 'weeks worked in year'\n",
            "ADTIND: 'industry code' - WKSWORK: 'weeks worked in year'\n"
          ]
        }
      ]
    },
    {
      "cell_type": "markdown",
      "metadata": {
        "id": "-3mP02niDId9"
      },
      "source": [
        "These correlations might be explained with presence of zero values in most of the cases."
      ]
    },
    {
      "cell_type": "markdown",
      "metadata": {
        "id": "7OsDWZ2DeXlt"
      },
      "source": [
        "**Categorical features**"
      ]
    },
    {
      "cell_type": "code",
      "metadata": {
        "colab": {
          "base_uri": "https://localhost:8080/"
        },
        "id": "tCD-sLOn9dfT",
        "outputId": "2b3a1c12-f713-462a-c327-15fcc5cfc643"
      },
      "source": [
        "cat_feat = list(X_train.columns[X_train.dtypes == 'object'])\n",
        "print('Categorical features are:')\n",
        "for i in cat_feat:\n",
        "  print(i, '-', feature_trl[i])"
      ],
      "execution_count": 33,
      "outputs": [
        {
          "output_type": "stream",
          "name": "stdout",
          "text": [
            "Categorical features are:\n",
            "ACLSWKR - class of worker\n",
            "AHGA - education\n",
            "AHSCOL - enrolled in edu inst last wk\n",
            "AMARITL - marital status\n",
            "AMJIND - major industry code\n",
            "AMJOCC - major occupation code\n",
            "ARACE - mace\n",
            "AREORGN - hispanic Origin\n",
            "ASEX - sex\n",
            "AUNMEM - member of a labor union\n",
            "AUNTYPE - reason for unemployment\n",
            "AWKSTAT - full or part time employment stat\n",
            "FILESTAT - tax filer status\n",
            "GRINREG - region of previous residence\n",
            "GRINST - state of previous residence\n",
            "HHDFMX - detailed household and family stat\n",
            "HHDREL - detailed household summary in household\n",
            "MIGMTR1 - migration code-change in msa\n",
            "MIGMTR3 - migration code-change in reg\n",
            "MIGMTR4 - migration code-move within reg\n",
            "MIGSAME - live in this house 1 year ago\n",
            "MIGSUN - migration prev res in sunbelt\n",
            "PARENT - family members under 18\n",
            "PEFNTVTY - country of birth father\n",
            "PEMNTVTY - country of birth mother\n",
            "PENATVTY - country of birth self\n",
            "PRCITSHP - citizenship\n",
            "VETQVA - fill inc questionnaire for veteran's admin\n"
          ]
        }
      ]
    },
    {
      "cell_type": "code",
      "metadata": {
        "colab": {
          "base_uri": "https://localhost:8080/"
        },
        "id": "chx7iGaBgWKx",
        "outputId": "9819ab71-4ce6-446a-ecd5-9daa47e7f273"
      },
      "source": [
        "len(cat_feat)"
      ],
      "execution_count": 34,
      "outputs": [
        {
          "output_type": "execute_result",
          "data": {
            "text/plain": [
              "28"
            ]
          },
          "metadata": {},
          "execution_count": 34
        }
      ]
    },
    {
      "cell_type": "markdown",
      "metadata": {
        "id": "QvfKHI0qtANh"
      },
      "source": [
        "Let's have a look to 'distribution' of categorical features, without paying attention to exact categories of each features so far."
      ]
    },
    {
      "cell_type": "code",
      "metadata": {
        "colab": {
          "base_uri": "https://localhost:8080/",
          "height": 535
        },
        "id": "EuzHKt9Dgyou",
        "outputId": "c391c4bc-19e5-4a83-94fd-f16763e7ca6e"
      },
      "source": [
        "n = len(cat_feat)\n",
        "fig, axs = plt.subplots(4,7,figsize=(20,10))\n",
        "col_n = 0\n",
        "for i, col in enumerate(cat_feat):\n",
        "  #print(col)\n",
        "  pos = i%7 + 1\n",
        "  if i%7 == 0:\n",
        "    pos =1\n",
        "    col_n+=1\n",
        "  X_train[col].value_counts().plot.bar(ax =axs[col_n-1,pos-1])\n",
        "  axs[col_n-1,pos-1].title.set_text(str(i)+' '+col)\n",
        "  axs[col_n-1,pos-1].set_xticklabels('')\n",
        "plt.tight_layout()"
      ],
      "execution_count": 35,
      "outputs": [
        {
          "output_type": "display_data",
          "data": {
            "image/png": "[encoded data removed]",
            "text/plain": [
              "<Figure size 1440x720 with 28 Axes>"
            ]
          },
          "metadata": {
            "needs_background": "light"
          }
        }
      ]
    },
    {
      "cell_type": "markdown",
      "metadata": {
        "id": "Y0NxKWhcw3HW"
      },
      "source": [
        "Some features has one prevailing category so it is possible to drop them. Such features are: "
      ]
    },
    {
      "cell_type": "code",
      "metadata": {
        "colab": {
          "base_uri": "https://localhost:8080/"
        },
        "id": "zcABfCQjtquU",
        "outputId": "628a3e1d-504c-4dbe-e524-0069f337fe0e"
      },
      "source": [
        "pos_to_drop = [2,4,5,6,7,10,13,14,17,18,19,21,23,24,25,26,27]\n",
        "cat_feat = np.array(cat_feat)\n",
        "drop_cand = cat_feat[pos_to_drop]\n",
        "print('Candidates for dropping:')\n",
        "for ft in drop_cand:\n",
        "  print(f'{ft} - {feature_trl[ft]}')"
      ],
      "execution_count": 36,
      "outputs": [
        {
          "output_type": "stream",
          "name": "stdout",
          "text": [
            "Candidates for dropping:\n",
            "AHSCOL - enrolled in edu inst last wk\n",
            "AMJIND - major industry code\n",
            "AMJOCC - major occupation code\n",
            "ARACE - mace\n",
            "AREORGN - hispanic Origin\n",
            "AUNTYPE - reason for unemployment\n",
            "GRINREG - region of previous residence\n",
            "GRINST - state of previous residence\n",
            "MIGMTR1 - migration code-change in msa\n",
            "MIGMTR3 - migration code-change in reg\n",
            "MIGMTR4 - migration code-move within reg\n",
            "MIGSUN - migration prev res in sunbelt\n",
            "PEFNTVTY - country of birth father\n",
            "PEMNTVTY - country of birth mother\n",
            "PENATVTY - country of birth self\n",
            "PRCITSHP - citizenship\n",
            "VETQVA - fill inc questionnaire for veteran's admin\n"
          ]
        }
      ]
    },
    {
      "cell_type": "markdown",
      "metadata": {
        "id": "rP-s7kg2EF0j"
      },
      "source": [
        "2.1 Let us examine missing values"
      ]
    },
    {
      "cell_type": "code",
      "metadata": {
        "colab": {
          "base_uri": "https://localhost:8080/",
          "height": 501
        },
        "id": "ZKRleV_Dxtbu",
        "outputId": "d886d9c5-ffb3-4ddf-f395-cc8879af5267"
      },
      "source": [
        "msno.matrix(X_train)\n",
        "plt.title('Missing data in columns', fontsize = 28)"
      ],
      "execution_count": 37,
      "outputs": [
        {
          "output_type": "execute_result",
          "data": {
            "text/plain": [
              "Text(0.5, 1.0, 'Missing data in columns')"
            ]
          },
          "metadata": {},
          "execution_count": 37
        },
        {
          "output_type": "display_data",
          "data": {
            "image/png": "[encoded data removed]",
            "text/plain": [
              "<Figure size 1800x720 with 2 Axes>"
            ]
          },
          "metadata": {
            "needs_background": "light"
          }
        }
      ]
    },
    {
      "cell_type": "code",
      "metadata": {
        "colab": {
          "base_uri": "https://localhost:8080/"
        },
        "id": "ogNMzVVWx0Dg",
        "outputId": "b85aaf8b-55b8-4374-c3b8-e4a56086f195"
      },
      "source": [
        "print('Proportion of missing values in columns')\n",
        "mask = X_train.isnull().sum()/len(train)\n",
        "mask[mask!=0]"
      ],
      "execution_count": 38,
      "outputs": [
        {
          "output_type": "stream",
          "name": "stdout",
          "text": [
            "Proportion of missing values in columns\n"
          ]
        },
        {
          "output_type": "execute_result",
          "data": {
            "text/plain": [
              "AREORGN     0.002997\n",
              "GRINST      0.002561\n",
              "MIGMTR1     0.349604\n",
              "MIGMTR3     0.349604\n",
              "MIGMTR4     0.349604\n",
              "MIGSUN      0.349604\n",
              "PEFNTVTY    0.023456\n",
              "PEMNTVTY    0.021556\n",
              "PENATVTY    0.011989\n",
              "dtype: float64"
            ]
          },
          "metadata": {},
          "execution_count": 38
        }
      ]
    },
    {
      "cell_type": "code",
      "metadata": {
        "colab": {
          "base_uri": "https://localhost:8080/"
        },
        "id": "L9oOjoctx_-3",
        "outputId": "acd7c949-3910-4c56-c36b-61e5ed529b6f"
      },
      "source": [
        "print('The following columns has 30% of data mising')\n",
        "mask[mask>0.3]"
      ],
      "execution_count": 39,
      "outputs": [
        {
          "output_type": "stream",
          "name": "stdout",
          "text": [
            "The following columns has 30% of data mising\n"
          ]
        },
        {
          "output_type": "execute_result",
          "data": {
            "text/plain": [
              "MIGMTR1    0.349604\n",
              "MIGMTR3    0.349604\n",
              "MIGMTR4    0.349604\n",
              "MIGSUN     0.349604\n",
              "dtype: float64"
            ]
          },
          "metadata": {},
          "execution_count": 39
        }
      ]
    },
    {
      "cell_type": "markdown",
      "metadata": {
        "id": "U380AF610FHr"
      },
      "source": [
        "Since some columns have low variance and have 30% of the data missing, we will drop them."
      ]
    },
    {
      "cell_type": "code",
      "metadata": {
        "id": "HrCMXfq10B-W"
      },
      "source": [
        "sure_drop = list(set(mask[mask>0.3].keys()) & set(drop_cand))"
      ],
      "execution_count": 40,
      "outputs": []
    },
    {
      "cell_type": "code",
      "metadata": {
        "colab": {
          "base_uri": "https://localhost:8080/"
        },
        "id": "2ZF7gBbNzlv7",
        "outputId": "26488fde-8488-4338-ee5e-1dab8a637445"
      },
      "source": [
        "sure_drop"
      ],
      "execution_count": 41,
      "outputs": [
        {
          "output_type": "execute_result",
          "data": {
            "text/plain": [
              "['MIGMTR4', 'MIGMTR1', 'MIGSUN', 'MIGMTR3']"
            ]
          },
          "metadata": {},
          "execution_count": 41
        }
      ]
    },
    {
      "cell_type": "code",
      "metadata": {
        "colab": {
          "base_uri": "https://localhost:8080/"
        },
        "id": "mj3TmP-k0Xll",
        "outputId": "0702c2c7-4c67-42d1-8a73-bb96ef333e60"
      },
      "source": [
        "print('Features we need to consider before dropping:')\n",
        "to_consider = list(set(drop_cand) - set(sure_drop))\n",
        "print(to_consider)"
      ],
      "execution_count": 42,
      "outputs": [
        {
          "output_type": "stream",
          "name": "stdout",
          "text": [
            "Features we need to consider before dropping:\n",
            "['PENATVTY', 'AHSCOL', 'AMJOCC', 'AREORGN', 'AMJIND', 'PEFNTVTY', 'PEMNTVTY', 'AUNTYPE', 'VETQVA', 'ARACE', 'GRINREG', 'PRCITSHP', 'GRINST']\n"
          ]
        }
      ]
    },
    {
      "cell_type": "code",
      "metadata": {
        "id": "OZ-3R_KmMdj8"
      },
      "source": [
        "def keep_or_not(col_name):\n",
        "  #global keep\n",
        "  train[col_name].value_counts().plot.bar()\n",
        "  catboost = CatBoostEncoder()\n",
        "  cb = catboost.fit_transform(train[col_name], train.target, handle_missing='return_nan')\n",
        "  cr = cb.join(train.target).corr()\n",
        "  print(f'Correaltion of CatBoost encoded feature and target \\n {cr}')\n",
        "  plt.show()\n",
        "  return True if cr.iloc[0][1]>0.1 else False\n"
      ],
      "execution_count": 43,
      "outputs": []
    },
    {
      "cell_type": "code",
      "metadata": {
        "colab": {
          "base_uri": "https://localhost:8080/",
          "height": 1000
        },
        "id": "CwGyTc0pOHJW",
        "outputId": "1756b283-8cd5-4638-df17-a29b1e3231a9"
      },
      "source": [
        "keep = []\n",
        "for i in to_consider:\n",
        "  res = keep_or_not(i)\n",
        "  keep.append(res)"
      ],
      "execution_count": 44,
      "outputs": [
        {
          "output_type": "stream",
          "name": "stdout",
          "text": [
            "Correaltion of CatBoost encoded feature and target \n",
            "           PENATVTY    target\n",
            "PENATVTY  1.000000  0.051133\n",
            "target    0.051133  1.000000\n"
          ]
        },
        {
          "output_type": "display_data",
          "data": {
            "image/png": "[encoded data removed]",
            "text/plain": [
              "<Figure size 432x288 with 1 Axes>"
            ]
          },
          "metadata": {
            "needs_background": "light"
          }
        },
        {
          "output_type": "stream",
          "name": "stdout",
          "text": [
            "Correaltion of CatBoost encoded feature and target \n",
            "           AHSCOL    target\n",
            "AHSCOL  1.000000  0.063517\n",
            "target  0.063517  1.000000\n"
          ]
        },
        {
          "output_type": "display_data",
          "data": {
            "image/png": "[encoded data removed]",
            "text/plain": [
              "<Figure size 432x288 with 1 Axes>"
            ]
          },
          "metadata": {
            "needs_background": "light"
          }
        },
        {
          "output_type": "stream",
          "name": "stdout",
          "text": [
            "Correaltion of CatBoost encoded feature and target \n",
            "           AMJOCC    target\n",
            "AMJOCC  1.000000  0.365028\n",
            "target  0.365028  1.000000\n"
          ]
        },
        {
          "output_type": "display_data",
          "data": {
            "image/png": "[encoded data removed]",
            "text/plain": [
              "<Figure size 432x288 with 1 Axes>"
            ]
          },
          "metadata": {
            "needs_background": "light"
          }
        },
        {
          "output_type": "stream",
          "name": "stdout",
          "text": [
            "Correaltion of CatBoost encoded feature and target \n",
            "           AREORGN    target\n",
            "AREORGN  1.000000  0.066805\n",
            "target   0.066805  1.000000\n"
          ]
        },
        {
          "output_type": "display_data",
          "data": {
            "image/png": "[encoded data removed]",
            "text/plain": [
              "<Figure size 432x288 with 1 Axes>"
            ]
          },
          "metadata": {
            "needs_background": "light"
          }
        },
        {
          "output_type": "stream",
          "name": "stdout",
          "text": [
            "Correaltion of CatBoost encoded feature and target \n",
            "           AMJIND    target\n",
            "AMJIND  1.000000  0.274712\n",
            "target  0.274712  1.000000\n"
          ]
        },
        {
          "output_type": "display_data",
          "data": {
            "image/png": "[encoded data removed]",
            "text/plain": [
              "<Figure size 432x288 with 1 Axes>"
            ]
          },
          "metadata": {
            "needs_background": "light"
          }
        },
        {
          "output_type": "stream",
          "name": "stdout",
          "text": [
            "Correaltion of CatBoost encoded feature and target \n",
            "           PEFNTVTY    target\n",
            "PEFNTVTY  1.000000  0.063384\n",
            "target    0.063384  1.000000\n"
          ]
        },
        {
          "output_type": "display_data",
          "data": {
            "image/png": "[encoded data removed]",
            "text/plain": [
              "<Figure size 432x288 with 1 Axes>"
            ]
          },
          "metadata": {
            "needs_background": "light"
          }
        },
        {
          "output_type": "stream",
          "name": "stdout",
          "text": [
            "Correaltion of CatBoost encoded feature and target \n",
            "           PEMNTVTY    target\n",
            "PEMNTVTY  1.000000  0.062147\n",
            "target    0.062147  1.000000\n"
          ]
        },
        {
          "output_type": "display_data",
          "data": {
            "image/png": "[encoded data removed]",
            "text/plain": [
              "<Figure size 432x288 with 1 Axes>"
            ]
          },
          "metadata": {
            "needs_background": "light"
          }
        },
        {
          "output_type": "stream",
          "name": "stdout",
          "text": [
            "Correaltion of CatBoost encoded feature and target \n",
            "           AUNTYPE    target\n",
            "AUNTYPE  1.000000  0.025475\n",
            "target   0.025475  1.000000\n"
          ]
        },
        {
          "output_type": "display_data",
          "data": {
            "image/png": "[encoded data removed]",
            "text/plain": [
              "<Figure size 432x288 with 1 Axes>"
            ]
          },
          "metadata": {
            "needs_background": "light"
          }
        },
        {
          "output_type": "stream",
          "name": "stdout",
          "text": [
            "Correaltion of CatBoost encoded feature and target \n",
            "           VETQVA    target\n",
            "VETQVA  1.000000  0.024438\n",
            "target  0.024438  1.000000\n"
          ]
        },
        {
          "output_type": "display_data",
          "data": {
            "image/png": "[encoded data removed]",
            "text/plain": [
              "<Figure size 432x288 with 1 Axes>"
            ]
          },
          "metadata": {
            "needs_background": "light"
          }
        },
        {
          "output_type": "stream",
          "name": "stdout",
          "text": [
            "Correaltion of CatBoost encoded feature and target \n",
            "            ARACE    target\n",
            "ARACE   1.000000  0.057207\n",
            "target  0.057207  1.000000\n"
          ]
        },
        {
          "output_type": "display_data",
          "data": {
            "image/png": "[encoded data removed]",
            "text/plain": [
              "<Figure size 432x288 with 1 Axes>"
            ]
          },
          "metadata": {
            "needs_background": "light"
          }
        },
        {
          "output_type": "stream",
          "name": "stdout",
          "text": [
            "Correaltion of CatBoost encoded feature and target \n",
            "           GRINREG    target\n",
            "GRINREG  1.000000  0.027202\n",
            "target   0.027202  1.000000\n"
          ]
        },
        {
          "output_type": "display_data",
          "data": {
            "image/png": "[encoded data removed]",
            "text/plain": [
              "<Figure size 432x288 with 1 Axes>"
            ]
          },
          "metadata": {
            "needs_background": "light"
          }
        },
        {
          "output_type": "stream",
          "name": "stdout",
          "text": [
            "Correaltion of CatBoost encoded feature and target \n",
            "           PRCITSHP    target\n",
            "PRCITSHP  1.000000  0.038487\n",
            "target    0.038487  1.000000\n"
          ]
        },
        {
          "output_type": "display_data",
          "data": {
            "image/png": "[encoded data removed]",
            "text/plain": [
              "<Figure size 432x288 with 1 Axes>"
            ]
          },
          "metadata": {
            "needs_background": "light"
          }
        },
        {
          "output_type": "stream",
          "name": "stdout",
          "text": [
            "Correaltion of CatBoost encoded feature and target \n",
            "          GRINST   target\n",
            "GRINST  1.00000  0.02423\n",
            "target  0.02423  1.00000\n"
          ]
        },
        {
          "output_type": "display_data",
          "data": {
            "image/png": "[encoded data removed]",
            "text/plain": [
              "<Figure size 432x288 with 1 Axes>"
            ]
          },
          "metadata": {
            "needs_background": "light"
          }
        }
      ]
    },
    {
      "cell_type": "markdown",
      "metadata": {
        "id": "XTRVTS4URAIg"
      },
      "source": [
        "I will keep the following features from questioned features"
      ]
    },
    {
      "cell_type": "code",
      "metadata": {
        "colab": {
          "base_uri": "https://localhost:8080/"
        },
        "id": "9JH7-qxSRJ-E",
        "outputId": "65026214-aab1-40a2-bcec-57a75ed2aa56"
      },
      "source": [
        "np.array(to_consider)[keep]"
      ],
      "execution_count": 45,
      "outputs": [
        {
          "output_type": "execute_result",
          "data": {
            "text/plain": [
              "array(['AMJOCC', 'AMJIND'], dtype='<U8')"
            ]
          },
          "metadata": {},
          "execution_count": 45
        }
      ]
    },
    {
      "cell_type": "code",
      "metadata": {
        "id": "yW9dKG61OH3f"
      },
      "source": [
        "drop_arr = np.array(to_consider)[np.array(keep) == False]"
      ],
      "execution_count": 46,
      "outputs": []
    },
    {
      "cell_type": "code",
      "metadata": {
        "colab": {
          "base_uri": "https://localhost:8080/"
        },
        "id": "f4QUFsfjTDyX",
        "outputId": "49db7f4a-e5fa-416c-b6ca-9e241b47e658"
      },
      "source": [
        "drop_arr"
      ],
      "execution_count": 47,
      "outputs": [
        {
          "output_type": "execute_result",
          "data": {
            "text/plain": [
              "array(['PENATVTY', 'AHSCOL', 'AREORGN', 'PEFNTVTY', 'PEMNTVTY', 'AUNTYPE',\n",
              "       'VETQVA', 'ARACE', 'GRINREG', 'PRCITSHP', 'GRINST'], dtype='<U8')"
            ]
          },
          "metadata": {},
          "execution_count": 47
        }
      ]
    },
    {
      "cell_type": "code",
      "metadata": {
        "id": "1xjaFwVwOIDT"
      },
      "source": [
        "sure_drop = list(set(sure_drop).union(set(drop_arr)))"
      ],
      "execution_count": 48,
      "outputs": []
    },
    {
      "cell_type": "markdown",
      "metadata": {
        "id": "7ZKR2puHUBC7"
      },
      "source": [
        "Finally, we will drop the following features"
      ]
    },
    {
      "cell_type": "code",
      "metadata": {
        "colab": {
          "base_uri": "https://localhost:8080/"
        },
        "id": "doqkbmmNT_SW",
        "outputId": "fccf3f13-77f1-4745-f10c-b1f6123cf4e1"
      },
      "source": [
        "sure_drop"
      ],
      "execution_count": 49,
      "outputs": [
        {
          "output_type": "execute_result",
          "data": {
            "text/plain": [
              "['PENATVTY',\n",
              " 'MIGSUN',\n",
              " 'AHSCOL',\n",
              " 'AREORGN',\n",
              " 'PEFNTVTY',\n",
              " 'PEMNTVTY',\n",
              " 'AUNTYPE',\n",
              " 'GRINREG',\n",
              " 'VETQVA',\n",
              " 'ARACE',\n",
              " 'MIGMTR4',\n",
              " 'MIGMTR1',\n",
              " 'PRCITSHP',\n",
              " 'MIGMTR3',\n",
              " 'GRINST']"
            ]
          },
          "metadata": {},
          "execution_count": 49
        }
      ]
    },
    {
      "cell_type": "code",
      "metadata": {
        "id": "g8-yiaRYUGm4"
      },
      "source": [
        "X_train.drop(sure_drop, axis=1, inplace=True)\n",
        "X_val.drop(sure_drop, axis=1, inplace=True)\n",
        "X_test.drop(sure_drop, axis=1, inplace=True)"
      ],
      "execution_count": 50,
      "outputs": []
    },
    {
      "cell_type": "code",
      "metadata": {
        "colab": {
          "base_uri": "https://localhost:8080/"
        },
        "id": "BBShk6oLUNdL",
        "outputId": "4d640ef4-3957-4855-f2ee-2d50beb3e0ec"
      },
      "source": [
        "X_train.shape"
      ],
      "execution_count": 51,
      "outputs": [
        {
          "output_type": "execute_result",
          "data": {
            "text/plain": [
              "(139666, 24)"
            ]
          },
          "metadata": {},
          "execution_count": 51
        }
      ]
    },
    {
      "cell_type": "markdown",
      "metadata": {
        "id": "YnZj9x18WRAT"
      },
      "source": [
        "I will biniraze gender feature"
      ]
    },
    {
      "cell_type": "code",
      "metadata": {
        "id": "ZigEnwzVNUci"
      },
      "source": [
        "#to_binary_f(zero_f_name, one_f_name, df, 'column_name')\n",
        "to_binary_f('Female', 'Male', X_train, 'ASEX')\n",
        "to_binary_f('Female', 'Male', X_val, 'ASEX')\n",
        "to_binary_f('Female', 'Male', X_test, 'ASEX')"
      ],
      "execution_count": 52,
      "outputs": []
    },
    {
      "cell_type": "code",
      "metadata": {
        "colab": {
          "base_uri": "https://localhost:8080/",
          "height": 495
        },
        "id": "O5Mn0_19WCqV",
        "outputId": "bf55a8a3-8f8f-4963-b359-798c5c7f7314"
      },
      "source": [
        "X_train.head()"
      ],
      "execution_count": 53,
      "outputs": [
        {
          "output_type": "execute_result",
          "data": {
            "text/html": [
              "<div>\n",
              "<style scoped>\n",
              "    .dataframe tbody tr th:only-of-type {\n",
              "        vertical-align: middle;\n",
              "    }\n",
              "\n",
              "    .dataframe tbody tr th {\n",
              "        vertical-align: top;\n",
              "    }\n",
              "\n",
              "    .dataframe thead th {\n",
              "        text-align: right;\n",
              "    }\n",
              "</style>\n",
              "<table border=\"1\" class=\"dataframe\">\n",
              "  <thead>\n",
              "    <tr style=\"text-align: right;\">\n",
              "      <th></th>\n",
              "      <th>AAGE</th>\n",
              "      <th>ACLSWKR</th>\n",
              "      <th>ADTIND</th>\n",
              "      <th>ADTOCC</th>\n",
              "      <th>AHGA</th>\n",
              "      <th>AHRSPAY</th>\n",
              "      <th>AMARITL</th>\n",
              "      <th>AMJIND</th>\n",
              "      <th>AMJOCC</th>\n",
              "      <th>ASEX</th>\n",
              "      <th>AUNMEM</th>\n",
              "      <th>AWKSTAT</th>\n",
              "      <th>CAPGAIN</th>\n",
              "      <th>CAPLOSS</th>\n",
              "      <th>DIVVAL</th>\n",
              "      <th>FILESTAT</th>\n",
              "      <th>HHDFMX</th>\n",
              "      <th>HHDREL</th>\n",
              "      <th>MIGSAME</th>\n",
              "      <th>NOEMP</th>\n",
              "      <th>PARENT</th>\n",
              "      <th>SEOTR</th>\n",
              "      <th>VETYN</th>\n",
              "      <th>WKSWORK</th>\n",
              "    </tr>\n",
              "  </thead>\n",
              "  <tbody>\n",
              "    <tr>\n",
              "      <th>194010</th>\n",
              "      <td>8</td>\n",
              "      <td>Not in universe</td>\n",
              "      <td>0</td>\n",
              "      <td>0</td>\n",
              "      <td>Children</td>\n",
              "      <td>0</td>\n",
              "      <td>Never married</td>\n",
              "      <td>Not in universe or children</td>\n",
              "      <td>Not in universe</td>\n",
              "      <td>0</td>\n",
              "      <td>Not in universe</td>\n",
              "      <td>Children or Armed Forces</td>\n",
              "      <td>0</td>\n",
              "      <td>0</td>\n",
              "      <td>0</td>\n",
              "      <td>Nonfiler</td>\n",
              "      <td>Grandchild &lt;18 never marr child of subfamily RP</td>\n",
              "      <td>Other relative of householder</td>\n",
              "      <td>Not in universe under 1 year old</td>\n",
              "      <td>0</td>\n",
              "      <td>Mother only present</td>\n",
              "      <td>0</td>\n",
              "      <td>0</td>\n",
              "      <td>0</td>\n",
              "    </tr>\n",
              "    <tr>\n",
              "      <th>65898</th>\n",
              "      <td>19</td>\n",
              "      <td>Private</td>\n",
              "      <td>33</td>\n",
              "      <td>16</td>\n",
              "      <td>High school graduate</td>\n",
              "      <td>0</td>\n",
              "      <td>Never married</td>\n",
              "      <td>Retail trade</td>\n",
              "      <td>Sales</td>\n",
              "      <td>1</td>\n",
              "      <td>Not in universe</td>\n",
              "      <td>Unemployed part- time</td>\n",
              "      <td>2176</td>\n",
              "      <td>0</td>\n",
              "      <td>0</td>\n",
              "      <td>Single</td>\n",
              "      <td>Nonfamily householder</td>\n",
              "      <td>Householder</td>\n",
              "      <td>Not in universe under 1 year old</td>\n",
              "      <td>6</td>\n",
              "      <td>Not in universe</td>\n",
              "      <td>2</td>\n",
              "      <td>2</td>\n",
              "      <td>20</td>\n",
              "    </tr>\n",
              "    <tr>\n",
              "      <th>186025</th>\n",
              "      <td>17</td>\n",
              "      <td>Federal government</td>\n",
              "      <td>50</td>\n",
              "      <td>31</td>\n",
              "      <td>10th grade</td>\n",
              "      <td>0</td>\n",
              "      <td>Never married</td>\n",
              "      <td>Public administration</td>\n",
              "      <td>Other service</td>\n",
              "      <td>1</td>\n",
              "      <td>Not in universe</td>\n",
              "      <td>Unemployed full-time</td>\n",
              "      <td>0</td>\n",
              "      <td>0</td>\n",
              "      <td>0</td>\n",
              "      <td>Nonfiler</td>\n",
              "      <td>Child &lt;18 never marr not in subfamily</td>\n",
              "      <td>Child under 18 never married</td>\n",
              "      <td>Not in universe under 1 year old</td>\n",
              "      <td>0</td>\n",
              "      <td>Mother only present</td>\n",
              "      <td>0</td>\n",
              "      <td>2</td>\n",
              "      <td>0</td>\n",
              "    </tr>\n",
              "    <tr>\n",
              "      <th>96233</th>\n",
              "      <td>14</td>\n",
              "      <td>Not in universe</td>\n",
              "      <td>0</td>\n",
              "      <td>0</td>\n",
              "      <td>Children</td>\n",
              "      <td>0</td>\n",
              "      <td>Never married</td>\n",
              "      <td>Not in universe or children</td>\n",
              "      <td>Not in universe</td>\n",
              "      <td>1</td>\n",
              "      <td>Not in universe</td>\n",
              "      <td>Children or Armed Forces</td>\n",
              "      <td>0</td>\n",
              "      <td>0</td>\n",
              "      <td>0</td>\n",
              "      <td>Nonfiler</td>\n",
              "      <td>Child &lt;18 never marr not in subfamily</td>\n",
              "      <td>Child under 18 never married</td>\n",
              "      <td>Yes</td>\n",
              "      <td>0</td>\n",
              "      <td>Both parents present</td>\n",
              "      <td>0</td>\n",
              "      <td>0</td>\n",
              "      <td>0</td>\n",
              "    </tr>\n",
              "    <tr>\n",
              "      <th>179074</th>\n",
              "      <td>33</td>\n",
              "      <td>Private</td>\n",
              "      <td>29</td>\n",
              "      <td>38</td>\n",
              "      <td>Associates degree-occup /vocational</td>\n",
              "      <td>1800</td>\n",
              "      <td>Married-civilian spouse present</td>\n",
              "      <td>Transportation</td>\n",
              "      <td>Transportation and material moving</td>\n",
              "      <td>1</td>\n",
              "      <td>Yes</td>\n",
              "      <td>Full-time schedules</td>\n",
              "      <td>7688</td>\n",
              "      <td>0</td>\n",
              "      <td>0</td>\n",
              "      <td>Joint both under 65</td>\n",
              "      <td>Householder</td>\n",
              "      <td>Householder</td>\n",
              "      <td>Not in universe under 1 year old</td>\n",
              "      <td>6</td>\n",
              "      <td>Not in universe</td>\n",
              "      <td>0</td>\n",
              "      <td>2</td>\n",
              "      <td>52</td>\n",
              "    </tr>\n",
              "  </tbody>\n",
              "</table>\n",
              "</div>"
            ],
            "text/plain": [
              "        AAGE             ACLSWKR  ADTIND  ...  SEOTR VETYN  WKSWORK\n",
              "194010     8     Not in universe       0  ...      0     0        0\n",
              "65898     19             Private      33  ...      2     2       20\n",
              "186025    17  Federal government      50  ...      0     2        0\n",
              "96233     14     Not in universe       0  ...      0     0        0\n",
              "179074    33             Private      29  ...      0     2       52\n",
              "\n",
              "[5 rows x 24 columns]"
            ]
          },
          "metadata": {},
          "execution_count": 53
        }
      ]
    },
    {
      "cell_type": "markdown",
      "metadata": {
        "id": "YgXWwoF4XpYU"
      },
      "source": [
        "As an unintended consequence of features dropping out dataset does not contain missing values. But just in case there will be missing values I will fill them with most popular values."
      ]
    },
    {
      "cell_type": "code",
      "metadata": {
        "colab": {
          "base_uri": "https://localhost:8080/"
        },
        "id": "wuueJjR3Tw6f",
        "outputId": "90c6f184-6411-42cc-ff19-0989d35bb4e4"
      },
      "source": [
        "X_train.isnull().sum()"
      ],
      "execution_count": 54,
      "outputs": [
        {
          "output_type": "execute_result",
          "data": {
            "text/plain": [
              "AAGE        0\n",
              "ACLSWKR     0\n",
              "ADTIND      0\n",
              "ADTOCC      0\n",
              "AHGA        0\n",
              "AHRSPAY     0\n",
              "AMARITL     0\n",
              "AMJIND      0\n",
              "AMJOCC      0\n",
              "ASEX        0\n",
              "AUNMEM      0\n",
              "AWKSTAT     0\n",
              "CAPGAIN     0\n",
              "CAPLOSS     0\n",
              "DIVVAL      0\n",
              "FILESTAT    0\n",
              "HHDFMX      0\n",
              "HHDREL      0\n",
              "MIGSAME     0\n",
              "NOEMP       0\n",
              "PARENT      0\n",
              "SEOTR       0\n",
              "VETYN       0\n",
              "WKSWORK     0\n",
              "dtype: int64"
            ]
          },
          "metadata": {},
          "execution_count": 54
        }
      ]
    },
    {
      "cell_type": "code",
      "metadata": {
        "id": "ZU_iOeJWYoG-"
      },
      "source": [
        "X_train.fillna(X_train.median().iloc[0], inplace=True)\n",
        "X_val.fillna(X_train.median().iloc[0], inplace=True)\n",
        "X_test.fillna(X_test.median().iloc[0], inplace=True)"
      ],
      "execution_count": 55,
      "outputs": []
    },
    {
      "cell_type": "markdown",
      "metadata": {
        "id": "p5gGJxnRcD5q"
      },
      "source": [
        "**2.2 Encodeing categorical features**\n",
        "I will use target encoding to encode categorical features, more specifically CatBoost Encoder. Because I want categorical features to be encoded with continious values and minimise target leakage."
      ]
    },
    {
      "cell_type": "code",
      "metadata": {
        "colab": {
          "base_uri": "https://localhost:8080/"
        },
        "id": "OrR-azUzcDCc",
        "outputId": "04423b21-0e6e-4ba8-8213-fcebfb5a3214"
      },
      "source": [
        "X_train.columns[X_train.dtypes == 'object']"
      ],
      "execution_count": 56,
      "outputs": [
        {
          "output_type": "execute_result",
          "data": {
            "text/plain": [
              "Index(['ACLSWKR', 'AHGA', 'AMARITL', 'AMJIND', 'AMJOCC', 'AUNMEM', 'AWKSTAT',\n",
              "       'FILESTAT', 'HHDFMX', 'HHDREL', 'MIGSAME', 'PARENT'],\n",
              "      dtype='object')"
            ]
          },
          "metadata": {},
          "execution_count": 56
        }
      ]
    },
    {
      "cell_type": "code",
      "metadata": {
        "id": "AoyAGbFidLy5"
      },
      "source": [
        "cb_cat = CatBoostEncoder()\n",
        "for col in X_train.columns[X_train.dtypes == 'object']:\n",
        "  cb_cat.fit(X_train[col], y_train)\n",
        "  X_train[col] = cb_cat.transform(X_train[col])\n",
        "  X_test[col] = cb_cat.transform(X_test[col])\n",
        "  X_val[col] = cb_cat.transform(X_val[col])"
      ],
      "execution_count": 57,
      "outputs": []
    },
    {
      "cell_type": "code",
      "metadata": {
        "colab": {
          "base_uri": "https://localhost:8080/",
          "height": 223
        },
        "id": "S-aFnr0Kgzkn",
        "outputId": "5a11ad82-2704-4a00-bbad-33e369115274"
      },
      "source": [
        "X_train.head()"
      ],
      "execution_count": 58,
      "outputs": [
        {
          "output_type": "execute_result",
          "data": {
            "text/html": [
              "<div>\n",
              "<style scoped>\n",
              "    .dataframe tbody tr th:only-of-type {\n",
              "        vertical-align: middle;\n",
              "    }\n",
              "\n",
              "    .dataframe tbody tr th {\n",
              "        vertical-align: top;\n",
              "    }\n",
              "\n",
              "    .dataframe thead th {\n",
              "        text-align: right;\n",
              "    }\n",
              "</style>\n",
              "<table border=\"1\" class=\"dataframe\">\n",
              "  <thead>\n",
              "    <tr style=\"text-align: right;\">\n",
              "      <th></th>\n",
              "      <th>AAGE</th>\n",
              "      <th>ACLSWKR</th>\n",
              "      <th>ADTIND</th>\n",
              "      <th>ADTOCC</th>\n",
              "      <th>AHGA</th>\n",
              "      <th>AHRSPAY</th>\n",
              "      <th>AMARITL</th>\n",
              "      <th>AMJIND</th>\n",
              "      <th>AMJOCC</th>\n",
              "      <th>ASEX</th>\n",
              "      <th>AUNMEM</th>\n",
              "      <th>AWKSTAT</th>\n",
              "      <th>CAPGAIN</th>\n",
              "      <th>CAPLOSS</th>\n",
              "      <th>DIVVAL</th>\n",
              "      <th>FILESTAT</th>\n",
              "      <th>HHDFMX</th>\n",
              "      <th>HHDREL</th>\n",
              "      <th>MIGSAME</th>\n",
              "      <th>NOEMP</th>\n",
              "      <th>PARENT</th>\n",
              "      <th>SEOTR</th>\n",
              "      <th>VETYN</th>\n",
              "      <th>WKSWORK</th>\n",
              "    </tr>\n",
              "  </thead>\n",
              "  <tbody>\n",
              "    <tr>\n",
              "      <th>194010</th>\n",
              "      <td>8</td>\n",
              "      <td>0.008732</td>\n",
              "      <td>0</td>\n",
              "      <td>0</td>\n",
              "      <td>0.000002</td>\n",
              "      <td>0</td>\n",
              "      <td>0.013081</td>\n",
              "      <td>0.008707</td>\n",
              "      <td>0.008707</td>\n",
              "      <td>0</td>\n",
              "      <td>0.056279</td>\n",
              "      <td>0.047459</td>\n",
              "      <td>0</td>\n",
              "      <td>0</td>\n",
              "      <td>0</td>\n",
              "      <td>0.000363</td>\n",
              "      <td>0.000048</td>\n",
              "      <td>0.009224</td>\n",
              "      <td>0.064720</td>\n",
              "      <td>0</td>\n",
              "      <td>0.000007</td>\n",
              "      <td>0</td>\n",
              "      <td>0</td>\n",
              "      <td>0</td>\n",
              "    </tr>\n",
              "    <tr>\n",
              "      <th>65898</th>\n",
              "      <td>19</td>\n",
              "      <td>0.101437</td>\n",
              "      <td>33</td>\n",
              "      <td>16</td>\n",
              "      <td>0.039038</td>\n",
              "      <td>0</td>\n",
              "      <td>0.013081</td>\n",
              "      <td>0.046014</td>\n",
              "      <td>0.127739</td>\n",
              "      <td>1</td>\n",
              "      <td>0.056279</td>\n",
              "      <td>0.020514</td>\n",
              "      <td>2176</td>\n",
              "      <td>0</td>\n",
              "      <td>0</td>\n",
              "      <td>0.061543</td>\n",
              "      <td>0.081926</td>\n",
              "      <td>0.128001</td>\n",
              "      <td>0.064720</td>\n",
              "      <td>6</td>\n",
              "      <td>0.085824</td>\n",
              "      <td>2</td>\n",
              "      <td>2</td>\n",
              "      <td>20</td>\n",
              "    </tr>\n",
              "    <tr>\n",
              "      <th>186025</th>\n",
              "      <td>17</td>\n",
              "      <td>0.202603</td>\n",
              "      <td>50</td>\n",
              "      <td>31</td>\n",
              "      <td>0.008509</td>\n",
              "      <td>0</td>\n",
              "      <td>0.013081</td>\n",
              "      <td>0.183087</td>\n",
              "      <td>0.009458</td>\n",
              "      <td>1</td>\n",
              "      <td>0.056279</td>\n",
              "      <td>0.037739</td>\n",
              "      <td>0</td>\n",
              "      <td>0</td>\n",
              "      <td>0</td>\n",
              "      <td>0.000363</td>\n",
              "      <td>0.000059</td>\n",
              "      <td>0.000058</td>\n",
              "      <td>0.064720</td>\n",
              "      <td>0</td>\n",
              "      <td>0.000007</td>\n",
              "      <td>0</td>\n",
              "      <td>2</td>\n",
              "      <td>0</td>\n",
              "    </tr>\n",
              "    <tr>\n",
              "      <th>96233</th>\n",
              "      <td>14</td>\n",
              "      <td>0.008732</td>\n",
              "      <td>0</td>\n",
              "      <td>0</td>\n",
              "      <td>0.000002</td>\n",
              "      <td>0</td>\n",
              "      <td>0.013081</td>\n",
              "      <td>0.008707</td>\n",
              "      <td>0.008707</td>\n",
              "      <td>1</td>\n",
              "      <td>0.056279</td>\n",
              "      <td>0.047459</td>\n",
              "      <td>0</td>\n",
              "      <td>0</td>\n",
              "      <td>0</td>\n",
              "      <td>0.000363</td>\n",
              "      <td>0.000059</td>\n",
              "      <td>0.000058</td>\n",
              "      <td>0.063364</td>\n",
              "      <td>0</td>\n",
              "      <td>0.000076</td>\n",
              "      <td>0</td>\n",
              "      <td>0</td>\n",
              "      <td>0</td>\n",
              "    </tr>\n",
              "    <tr>\n",
              "      <th>179074</th>\n",
              "      <td>33</td>\n",
              "      <td>0.101437</td>\n",
              "      <td>29</td>\n",
              "      <td>38</td>\n",
              "      <td>0.074310</td>\n",
              "      <td>1800</td>\n",
              "      <td>0.114085</td>\n",
              "      <td>0.116878</td>\n",
              "      <td>0.065232</td>\n",
              "      <td>1</td>\n",
              "      <td>0.133176</td>\n",
              "      <td>0.132194</td>\n",
              "      <td>7688</td>\n",
              "      <td>0</td>\n",
              "      <td>0</td>\n",
              "      <td>0.131698</td>\n",
              "      <td>0.147194</td>\n",
              "      <td>0.128001</td>\n",
              "      <td>0.064720</td>\n",
              "      <td>6</td>\n",
              "      <td>0.085824</td>\n",
              "      <td>0</td>\n",
              "      <td>2</td>\n",
              "      <td>52</td>\n",
              "    </tr>\n",
              "  </tbody>\n",
              "</table>\n",
              "</div>"
            ],
            "text/plain": [
              "        AAGE   ACLSWKR  ADTIND  ADTOCC  ...    PARENT  SEOTR  VETYN  WKSWORK\n",
              "194010     8  0.008732       0       0  ...  0.000007      0      0        0\n",
              "65898     19  0.101437      33      16  ...  0.085824      2      2       20\n",
              "186025    17  0.202603      50      31  ...  0.000007      0      2        0\n",
              "96233     14  0.008732       0       0  ...  0.000076      0      0        0\n",
              "179074    33  0.101437      29      38  ...  0.085824      0      2       52\n",
              "\n",
              "[5 rows x 24 columns]"
            ]
          },
          "metadata": {},
          "execution_count": 58
        }
      ]
    },
    {
      "cell_type": "markdown",
      "metadata": {
        "id": "NPksdQeAfMdM"
      },
      "source": [
        "**1.3 Feature selection with PCA**"
      ]
    },
    {
      "cell_type": "code",
      "metadata": {
        "id": "ZqSnDmYziNIx"
      },
      "source": [
        "scaler = preprocessing.StandardScaler()\n",
        "scaled_X_tr = pd.DataFrame(scaler.fit_transform(X_train), columns=X_train.columns)\n",
        "scaled_X_ts = pd.DataFrame(scaler.fit_transform(X_test), columns=X_test.columns)\n",
        "scaled_X_val = pd.DataFrame(scaler.fit_transform(X_val), columns=X_val.columns)"
      ],
      "execution_count": 59,
      "outputs": []
    },
    {
      "cell_type": "code",
      "metadata": {
        "colab": {
          "base_uri": "https://localhost:8080/",
          "height": 223
        },
        "id": "8n6r-nOiYrTZ",
        "outputId": "4732a4c5-3e50-4557-919f-87885f8d03e2"
      },
      "source": [
        "scaled_X_tr.head()"
      ],
      "execution_count": 60,
      "outputs": [
        {
          "output_type": "execute_result",
          "data": {
            "text/html": [
              "<div>\n",
              "<style scoped>\n",
              "    .dataframe tbody tr th:only-of-type {\n",
              "        vertical-align: middle;\n",
              "    }\n",
              "\n",
              "    .dataframe tbody tr th {\n",
              "        vertical-align: top;\n",
              "    }\n",
              "\n",
              "    .dataframe thead th {\n",
              "        text-align: right;\n",
              "    }\n",
              "</style>\n",
              "<table border=\"1\" class=\"dataframe\">\n",
              "  <thead>\n",
              "    <tr style=\"text-align: right;\">\n",
              "      <th></th>\n",
              "      <th>AAGE</th>\n",
              "      <th>ACLSWKR</th>\n",
              "      <th>ADTIND</th>\n",
              "      <th>ADTOCC</th>\n",
              "      <th>AHGA</th>\n",
              "      <th>AHRSPAY</th>\n",
              "      <th>AMARITL</th>\n",
              "      <th>AMJIND</th>\n",
              "      <th>AMJOCC</th>\n",
              "      <th>ASEX</th>\n",
              "      <th>AUNMEM</th>\n",
              "      <th>AWKSTAT</th>\n",
              "      <th>CAPGAIN</th>\n",
              "      <th>CAPLOSS</th>\n",
              "      <th>DIVVAL</th>\n",
              "      <th>FILESTAT</th>\n",
              "      <th>HHDFMX</th>\n",
              "      <th>HHDREL</th>\n",
              "      <th>MIGSAME</th>\n",
              "      <th>NOEMP</th>\n",
              "      <th>PARENT</th>\n",
              "      <th>SEOTR</th>\n",
              "      <th>VETYN</th>\n",
              "      <th>WKSWORK</th>\n",
              "    </tr>\n",
              "  </thead>\n",
              "  <tbody>\n",
              "    <tr>\n",
              "      <th>0</th>\n",
              "      <td>-1.188445</td>\n",
              "      <td>-0.839271</td>\n",
              "      <td>-0.850063</td>\n",
              "      <td>-0.782308</td>\n",
              "      <td>-0.654890</td>\n",
              "      <td>-0.203305</td>\n",
              "      <td>-1.027926</td>\n",
              "      <td>-0.791526</td>\n",
              "      <td>-0.598775</td>\n",
              "      <td>-0.959038</td>\n",
              "      <td>-0.322127</td>\n",
              "      <td>-0.375740</td>\n",
              "      <td>-0.092675</td>\n",
              "      <td>-0.138526</td>\n",
              "      <td>-0.09935</td>\n",
              "      <td>-1.110502</td>\n",
              "      <td>-1.069233</td>\n",
              "      <td>-0.961898</td>\n",
              "      <td>0.380007</td>\n",
              "      <td>-0.828090</td>\n",
              "      <td>-1.616439</td>\n",
              "      <td>-0.317014</td>\n",
              "      <td>-1.780396</td>\n",
              "      <td>-0.949931</td>\n",
              "    </tr>\n",
              "    <tr>\n",
              "      <th>1</th>\n",
              "      <td>-0.694608</td>\n",
              "      <td>0.619931</td>\n",
              "      <td>0.976166</td>\n",
              "      <td>0.324092</td>\n",
              "      <td>-0.242872</td>\n",
              "      <td>-0.203305</td>\n",
              "      <td>-1.027926</td>\n",
              "      <td>-0.237882</td>\n",
              "      <td>0.737342</td>\n",
              "      <td>1.042711</td>\n",
              "      <td>-0.322127</td>\n",
              "      <td>-1.069378</td>\n",
              "      <td>0.368131</td>\n",
              "      <td>-0.138526</td>\n",
              "      <td>-0.09935</td>\n",
              "      <td>-0.009226</td>\n",
              "      <td>0.342397</td>\n",
              "      <td>1.200615</td>\n",
              "      <td>0.380007</td>\n",
              "      <td>1.707484</td>\n",
              "      <td>0.619154</td>\n",
              "      <td>3.294267</td>\n",
              "      <td>0.569506</td>\n",
              "      <td>-0.131009</td>\n",
              "    </tr>\n",
              "    <tr>\n",
              "      <th>2</th>\n",
              "      <td>-0.784397</td>\n",
              "      <td>2.212310</td>\n",
              "      <td>1.916951</td>\n",
              "      <td>1.361341</td>\n",
              "      <td>-0.565103</td>\n",
              "      <td>-0.203305</td>\n",
              "      <td>-1.027926</td>\n",
              "      <td>1.796308</td>\n",
              "      <td>-0.590342</td>\n",
              "      <td>1.042711</td>\n",
              "      <td>-0.322127</td>\n",
              "      <td>-0.625947</td>\n",
              "      <td>-0.092675</td>\n",
              "      <td>-0.138526</td>\n",
              "      <td>-0.09935</td>\n",
              "      <td>-1.110502</td>\n",
              "      <td>-1.069046</td>\n",
              "      <td>-1.128781</td>\n",
              "      <td>0.380007</td>\n",
              "      <td>-0.828090</td>\n",
              "      <td>-1.616439</td>\n",
              "      <td>-0.317014</td>\n",
              "      <td>0.569506</td>\n",
              "      <td>-0.949931</td>\n",
              "    </tr>\n",
              "    <tr>\n",
              "      <th>3</th>\n",
              "      <td>-0.919079</td>\n",
              "      <td>-0.839271</td>\n",
              "      <td>-0.850063</td>\n",
              "      <td>-0.782308</td>\n",
              "      <td>-0.654890</td>\n",
              "      <td>-0.203305</td>\n",
              "      <td>-1.027926</td>\n",
              "      <td>-0.791526</td>\n",
              "      <td>-0.598775</td>\n",
              "      <td>1.042711</td>\n",
              "      <td>-0.322127</td>\n",
              "      <td>-0.375740</td>\n",
              "      <td>-0.092675</td>\n",
              "      <td>-0.138526</td>\n",
              "      <td>-0.09935</td>\n",
              "      <td>-1.110502</td>\n",
              "      <td>-1.069046</td>\n",
              "      <td>-1.128781</td>\n",
              "      <td>0.186601</td>\n",
              "      <td>-0.828090</td>\n",
              "      <td>-1.614649</td>\n",
              "      <td>-0.317014</td>\n",
              "      <td>-1.780396</td>\n",
              "      <td>-0.949931</td>\n",
              "    </tr>\n",
              "    <tr>\n",
              "      <th>4</th>\n",
              "      <td>-0.066090</td>\n",
              "      <td>0.619931</td>\n",
              "      <td>0.754805</td>\n",
              "      <td>1.845391</td>\n",
              "      <td>0.129413</td>\n",
              "      <td>6.332126</td>\n",
              "      <td>1.092047</td>\n",
              "      <td>0.813746</td>\n",
              "      <td>0.035703</td>\n",
              "      <td>1.042711</td>\n",
              "      <td>3.966819</td>\n",
              "      <td>1.805559</td>\n",
              "      <td>1.535394</td>\n",
              "      <td>-0.138526</td>\n",
              "      <td>-0.09935</td>\n",
              "      <td>1.253625</td>\n",
              "      <td>1.467655</td>\n",
              "      <td>1.200615</td>\n",
              "      <td>0.380007</td>\n",
              "      <td>1.707484</td>\n",
              "      <td>0.619154</td>\n",
              "      <td>-0.317014</td>\n",
              "      <td>0.569506</td>\n",
              "      <td>1.179266</td>\n",
              "    </tr>\n",
              "  </tbody>\n",
              "</table>\n",
              "</div>"
            ],
            "text/plain": [
              "       AAGE   ACLSWKR    ADTIND  ...     SEOTR     VETYN   WKSWORK\n",
              "0 -1.188445 -0.839271 -0.850063  ... -0.317014 -1.780396 -0.949931\n",
              "1 -0.694608  0.619931  0.976166  ...  3.294267  0.569506 -0.131009\n",
              "2 -0.784397  2.212310  1.916951  ... -0.317014  0.569506 -0.949931\n",
              "3 -0.919079 -0.839271 -0.850063  ... -0.317014 -1.780396 -0.949931\n",
              "4 -0.066090  0.619931  0.754805  ... -0.317014  0.569506  1.179266\n",
              "\n",
              "[5 rows x 24 columns]"
            ]
          },
          "metadata": {},
          "execution_count": 60
        }
      ]
    },
    {
      "cell_type": "code",
      "metadata": {
        "id": "zAU1gfl7e2SG"
      },
      "source": [
        "pca = PCA(random_state=42)"
      ],
      "execution_count": 61,
      "outputs": []
    },
    {
      "cell_type": "code",
      "metadata": {
        "colab": {
          "base_uri": "https://localhost:8080/"
        },
        "id": "vNqA5xKmlfx-",
        "outputId": "b60514c6-7875-4281-8cab-3ab58eca3bf7"
      },
      "source": [
        "pca.fit(scaled_X_tr)"
      ],
      "execution_count": 62,
      "outputs": [
        {
          "output_type": "execute_result",
          "data": {
            "text/plain": [
              "PCA(random_state=42)"
            ]
          },
          "metadata": {},
          "execution_count": 62
        }
      ]
    },
    {
      "cell_type": "code",
      "metadata": {
        "colab": {
          "base_uri": "https://localhost:8080/"
        },
        "id": "DVGmu40_vbV0",
        "outputId": "c5475624-cea9-43b1-c668-f01851b50a50"
      },
      "source": [
        "scaled_X_tr.shape"
      ],
      "execution_count": 63,
      "outputs": [
        {
          "output_type": "execute_result",
          "data": {
            "text/plain": [
              "(139666, 24)"
            ]
          },
          "metadata": {},
          "execution_count": 63
        }
      ]
    },
    {
      "cell_type": "code",
      "metadata": {
        "id": "m7q6rcUQe2dz"
      },
      "source": [
        "pca_data_tr = pca.transform(scaled_X_tr)\n",
        "pca_data_val = pca.transform(scaled_X_val)\n",
        "pca_data_ts = pca.transform(scaled_X_ts)"
      ],
      "execution_count": 64,
      "outputs": []
    },
    {
      "cell_type": "code",
      "metadata": {
        "id": "Dw5tAe-Al05d"
      },
      "source": [
        "per_var = np.round(pca.explained_variance_ratio_*100, decimals=2)"
      ],
      "execution_count": 65,
      "outputs": []
    },
    {
      "cell_type": "code",
      "metadata": {
        "colab": {
          "base_uri": "https://localhost:8080/",
          "height": 445
        },
        "id": "Le2jezLGmH5o",
        "outputId": "06e21df8-47d5-4d46-df90-d9d93c9a3ae4"
      },
      "source": [
        "plt.figure(figsize=(15,7))\n",
        "plt.bar(x=range(1,len(per_var)+1), height= per_var, tick_label = [\"PC_\"+str(i) for i in range(1, len(per_var)+1)])\n",
        "plt.ylabel('% of variance explained')\n",
        "plt.title('Variance explained with principle components')\n",
        "plt.show()"
      ],
      "execution_count": 66,
      "outputs": [
        {
          "output_type": "display_data",
          "data": {
            "image/png": "[encoded data removed]",
            "text/plain": [
              "<Figure size 1080x504 with 1 Axes>"
            ]
          },
          "metadata": {
            "needs_background": "light"
          }
        }
      ]
    },
    {
      "cell_type": "code",
      "metadata": {
        "id": "Qn8izjuPoJhH"
      },
      "source": [
        "df_pca_tr = pd.DataFrame(pca_data_tr, columns=[\"PC_\"+str(i) for i in range(1, len(per_var)+1)])\n",
        "df_pca_ts = pd.DataFrame(pca_data_ts, columns=[\"PC_\"+str(i) for i in range(1, len(per_var)+1)])\n",
        "df_pca_val = pd.DataFrame(pca_data_val, columns=[\"PC_\"+str(i) for i in range(1, len(per_var)+1)])"
      ],
      "execution_count": 67,
      "outputs": []
    },
    {
      "cell_type": "code",
      "metadata": {
        "id": "ttkQic9moHQv"
      },
      "source": [
        "df_label_pca = scaled_X_tr.join(pd.DataFrame(y_train).reset_index())"
      ],
      "execution_count": 68,
      "outputs": []
    },
    {
      "cell_type": "code",
      "metadata": {
        "colab": {
          "base_uri": "https://localhost:8080/",
          "height": 281
        },
        "id": "OhIbKNh_iStv",
        "outputId": "42390cb6-365c-4e8d-afd4-75493391b737"
      },
      "source": [
        "targets = [0, 1]\n",
        "colors = ['yellow', 'darkblue']\n",
        "for target, color in zip(targets,colors):\n",
        "    indicesToKeep = df_label_pca['target'] == target\n",
        "    plt.scatter(df_pca_tr.loc[indicesToKeep, 'PC_1'],\n",
        "                df_pca_tr.loc[indicesToKeep, 'PC_2'], c = color, s = 50, alpha=0.5)\n",
        "plt.legend(targets,prop={'size': 15})\n",
        "plt.title('PCA labeled with target')\n",
        "plt.savefig(\"/content/pca.jpg\")"
      ],
      "execution_count": 69,
      "outputs": [
        {
          "output_type": "display_data",
          "data": {
            "image/png": "[encoded data removed]",
            "text/plain": [
              "<Figure size 432x288 with 1 Axes>"
            ]
          },
          "metadata": {
            "needs_background": "light"
          }
        }
      ]
    },
    {
      "cell_type": "code",
      "metadata": {
        "id": "L-gXRaC4rBzo"
      },
      "source": [
        "pc1_cont = pd.Series(pca.components_[0], index = scaled_X_tr.columns.tolist()).abs().sort_values(ascending=False)"
      ],
      "execution_count": 70,
      "outputs": []
    },
    {
      "cell_type": "markdown",
      "metadata": {
        "id": "QeE11EnDuPXF"
      },
      "source": [
        "Below are the top 10 features that explain most of the variance in the train data according to principle component #1.\n"
      ]
    },
    {
      "cell_type": "code",
      "metadata": {
        "colab": {
          "base_uri": "https://localhost:8080/"
        },
        "id": "ARXta8crs7XR",
        "outputId": "b113e932-faf4-4237-e6bf-93ff429fade8"
      },
      "source": [
        "for i in pc1_cont[:11].keys():\n",
        "  print(i, '-', feature_trl[i])"
      ],
      "execution_count": 71,
      "outputs": [
        {
          "output_type": "stream",
          "name": "stdout",
          "text": [
            "WKSWORK - weeks worked in year\n",
            "FILESTAT - tax filer status\n",
            "PARENT - family members under 18\n",
            "ACLSWKR - class of worker\n",
            "AMJIND - major industry code\n",
            "ADTIND - industry code\n",
            "VETYN - veterans benefits\n",
            "NOEMP - num persons worked for employer\n",
            "HHDFMX - detailed household and family stat\n",
            "HHDREL - detailed household summary in household\n",
            "AMARITL - marital status\n"
          ]
        }
      ]
    },
    {
      "cell_type": "code",
      "metadata": {
        "colab": {
          "base_uri": "https://localhost:8080/"
        },
        "id": "NWP62qFDjrRS",
        "outputId": "d9c2041c-8e66-4bfb-ec31-e3d8df8fdcec"
      },
      "source": [
        "pc2_cont = pd.Series(pca.components_[1], index = scaled_X_tr.columns.tolist()).abs().sort_values(ascending=False)\n",
        "for i in pc2_cont[:11].keys():\n",
        "  print(i, '-', feature_trl[i])"
      ],
      "execution_count": 72,
      "outputs": [
        {
          "output_type": "stream",
          "name": "stdout",
          "text": [
            "AAGE - age\n",
            "HHDREL - detailed household summary in household\n",
            "HHDFMX - detailed household and family stat\n",
            "AWKSTAT - full or part time employment stat\n",
            "AMARITL - marital status\n",
            "PARENT - family members under 18\n",
            "ADTIND - industry code\n",
            "VETYN - veterans benefits\n",
            "AMJIND - major industry code\n",
            "NOEMP - num persons worked for employer\n",
            "ACLSWKR - class of worker\n"
          ]
        }
      ]
    },
    {
      "cell_type": "code",
      "metadata": {
        "colab": {
          "base_uri": "https://localhost:8080/"
        },
        "id": "H4FzMmYCkHz0",
        "outputId": "4000727d-d46e-4478-d923-74e483acaf25"
      },
      "source": [
        "pc1_pc2_top = list(set(pc1_cont.keys()[:11]).intersection(pc2_cont[:11].keys()))\n",
        "for i in pc1_pc2_top:\n",
        "  print(i, '-', feature_trl[i])"
      ],
      "execution_count": 73,
      "outputs": [
        {
          "output_type": "stream",
          "name": "stdout",
          "text": [
            "NOEMP - num persons worked for employer\n",
            "HHDREL - detailed household summary in household\n",
            "ACLSWKR - class of worker\n",
            "VETYN - veterans benefits\n",
            "PARENT - family members under 18\n",
            "AMARITL - marital status\n",
            "ADTIND - industry code\n",
            "AMJIND - major industry code\n",
            "HHDFMX - detailed household and family stat\n"
          ]
        }
      ]
    },
    {
      "cell_type": "markdown",
      "metadata": {
        "id": "ya-1ioRck1sT"
      },
      "source": [
        "Above features explain the most variance in the data."
      ]
    },
    {
      "cell_type": "markdown",
      "metadata": {
        "id": "BrXqxpZOvHol"
      },
      "source": [
        "To assess feature importance I want to train an ensemble and compare it to the PCA."
      ]
    },
    {
      "cell_type": "code",
      "metadata": {
        "id": "LNVWiTXixnRb"
      },
      "source": [
        "from sklearn.ensemble import ExtraTreesClassifier"
      ],
      "execution_count": 74,
      "outputs": []
    },
    {
      "cell_type": "code",
      "metadata": {
        "id": "x3YVDyT3xot1"
      },
      "source": [
        "clf = ExtraTreesClassifier(n_estimators=50)\n",
        "clf = clf.fit(scaled_X_tr, y_train)"
      ],
      "execution_count": 75,
      "outputs": []
    },
    {
      "cell_type": "code",
      "metadata": {
        "id": "zS7uBCEGmxTi"
      },
      "source": [
        "def compute_confusion_matrix(y_test, y_pred):\n",
        "    return pd.DataFrame(\n",
        "        confusion_matrix(y_test, y_pred, labels=[1, 0]),\n",
        "        columns=['a(x) = 1', 'a(x) = 0'],\n",
        "        index=['y = 1', 'y = 0'],\n",
        "    ).T"
      ],
      "execution_count": 76,
      "outputs": []
    },
    {
      "cell_type": "code",
      "metadata": {
        "colab": {
          "base_uri": "https://localhost:8080/",
          "height": 128
        },
        "id": "a5T5sA7rmEHL",
        "outputId": "50821de5-5015-4b71-af41-a3582ab30254"
      },
      "source": [
        "y_pred = clf.predict(scaled_X_tr)\n",
        "print(f'f1-score {f1_score(y_train, y_pred)}')\n",
        "compute_confusion_matrix(y_train, y_pred)"
      ],
      "execution_count": 77,
      "outputs": [
        {
          "output_type": "stream",
          "name": "stdout",
          "text": [
            "f1-score 0.9940244822184835\n"
          ]
        },
        {
          "output_type": "execute_result",
          "data": {
            "text/html": [
              "<div>\n",
              "<style scoped>\n",
              "    .dataframe tbody tr th:only-of-type {\n",
              "        vertical-align: middle;\n",
              "    }\n",
              "\n",
              "    .dataframe tbody tr th {\n",
              "        vertical-align: top;\n",
              "    }\n",
              "\n",
              "    .dataframe thead th {\n",
              "        text-align: right;\n",
              "    }\n",
              "</style>\n",
              "<table border=\"1\" class=\"dataframe\">\n",
              "  <thead>\n",
              "    <tr style=\"text-align: right;\">\n",
              "      <th></th>\n",
              "      <th>y = 1</th>\n",
              "      <th>y = 0</th>\n",
              "    </tr>\n",
              "  </thead>\n",
              "  <tbody>\n",
              "    <tr>\n",
              "      <th>a(x) = 1</th>\n",
              "      <td>8567</td>\n",
              "      <td>3</td>\n",
              "    </tr>\n",
              "    <tr>\n",
              "      <th>a(x) = 0</th>\n",
              "      <td>100</td>\n",
              "      <td>130996</td>\n",
              "    </tr>\n",
              "  </tbody>\n",
              "</table>\n",
              "</div>"
            ],
            "text/plain": [
              "          y = 1   y = 0\n",
              "a(x) = 1   8567       3\n",
              "a(x) = 0    100  130996"
            ]
          },
          "metadata": {},
          "execution_count": 77
        }
      ]
    },
    {
      "cell_type": "markdown",
      "metadata": {
        "id": "8DRXa-tXr4UK"
      },
      "source": [
        "We see that on Train data ensemble predicts excelent, probably, due to overfitting. Anyway, we did this ensemble training without tuning and just for feature selection purposes. "
      ]
    },
    {
      "cell_type": "code",
      "metadata": {
        "id": "LeM3Sxk-x0Xb"
      },
      "source": [
        "ens_imp = list(zip(clf.feature_names_in_,clf.feature_importances_ ))"
      ],
      "execution_count": 78,
      "outputs": []
    },
    {
      "cell_type": "code",
      "metadata": {
        "id": "WWL3LkSUyInn"
      },
      "source": [
        "ens_top = sorted(ens_imp, key=lambda x: x[1], reverse=True)[:11]"
      ],
      "execution_count": 79,
      "outputs": []
    },
    {
      "cell_type": "code",
      "metadata": {
        "id": "IBUqQncGyaiD"
      },
      "source": [
        "conf_feat = set(pc1_cont.keys()[:11]).intersection(set([i[0] for i in ens_top]), pc2_cont[:11].keys())"
      ],
      "execution_count": 80,
      "outputs": []
    },
    {
      "cell_type": "code",
      "metadata": {
        "colab": {
          "base_uri": "https://localhost:8080/"
        },
        "id": "imZQ_TZWzUa7",
        "outputId": "1ba7fd46-b958-4060-cf09-39415249e566"
      },
      "source": [
        "conf_feat"
      ],
      "execution_count": 81,
      "outputs": [
        {
          "output_type": "execute_result",
          "data": {
            "text/plain": [
              "{'ACLSWKR', 'ADTIND', 'AMJIND', 'NOEMP'}"
            ]
          },
          "metadata": {},
          "execution_count": 81
        }
      ]
    },
    {
      "cell_type": "markdown",
      "metadata": {
        "id": "mTN4p5tWsiiY"
      },
      "source": [
        "There are 4 features in common between PCA and the ensemble."
      ]
    },
    {
      "cell_type": "code",
      "metadata": {
        "colab": {
          "base_uri": "https://localhost:8080/"
        },
        "id": "-Ux6YcordTpL",
        "outputId": "bdac8ca9-9cac-4d27-88f3-61908e3130b0"
      },
      "source": [
        "len(set([i[0] for i in ens_top]).union(set(pc2_cont[:11].keys()), set(pc1_cont[:11].keys())))"
      ],
      "execution_count": 82,
      "outputs": [
        {
          "output_type": "execute_result",
          "data": {
            "text/plain": [
              "18"
            ]
          },
          "metadata": {},
          "execution_count": 82
        }
      ]
    },
    {
      "cell_type": "markdown",
      "metadata": {
        "id": "Yh5rsjXozHkR"
      },
      "source": [
        "4/18 top features intersect in PCA and features selected by trees ensemble. I will keep for further model trainings union of top 18 features from PCA and the ensemble."
      ]
    },
    {
      "cell_type": "code",
      "metadata": {
        "id": "WPPPkNHEzGtN"
      },
      "source": [
        "imp_feat = list(set([i[0] for i in ens_top]).union(set(pc2_cont[:11].keys()), set(pc1_cont[:11].keys()))) # we can keep features from PCA and ensemble"
      ],
      "execution_count": 83,
      "outputs": []
    },
    {
      "cell_type": "code",
      "metadata": {
        "colab": {
          "base_uri": "https://localhost:8080/"
        },
        "id": "X-darMKewYt4",
        "outputId": "c278c763-4485-4449-ca1e-ba4e65c653c6"
      },
      "source": [
        "imp_feat"
      ],
      "execution_count": 84,
      "outputs": [
        {
          "output_type": "execute_result",
          "data": {
            "text/plain": [
              "['AAGE',\n",
              " 'AHGA',\n",
              " 'CAPGAIN',\n",
              " 'DIVVAL',\n",
              " 'FILESTAT',\n",
              " 'ADTOCC',\n",
              " 'WKSWORK',\n",
              " 'ACLSWKR',\n",
              " 'AMARITL',\n",
              " 'NOEMP',\n",
              " 'AWKSTAT',\n",
              " 'HHDREL',\n",
              " 'AMJOCC',\n",
              " 'VETYN',\n",
              " 'PARENT',\n",
              " 'ADTIND',\n",
              " 'AMJIND',\n",
              " 'HHDFMX']"
            ]
          },
          "metadata": {},
          "execution_count": 84
        }
      ]
    },
    {
      "cell_type": "markdown",
      "metadata": {
        "id": "XwKXcLd6tmR5"
      },
      "source": [
        "**2.3 Clustering observations**"
      ]
    },
    {
      "cell_type": "code",
      "metadata": {
        "id": "vyWNjA19wdaI"
      },
      "source": [
        "from sklearn.cluster import KMeans"
      ],
      "execution_count": 85,
      "outputs": []
    },
    {
      "cell_type": "code",
      "metadata": {
        "id": "MesquX9_rusY"
      },
      "source": [
        "k_max = 10\n",
        "\n",
        "inertia = []\n",
        "for k in range(1, k_max):\n",
        "\n",
        "    kmeans = KMeans(n_clusters=k).fit(df_pca_tr[['PC_1', 'PC_2']])\n",
        "    \n",
        "    inertia.append(np.sqrt(kmeans.inertia_))"
      ],
      "execution_count": 86,
      "outputs": []
    },
    {
      "cell_type": "code",
      "metadata": {
        "colab": {
          "base_uri": "https://localhost:8080/",
          "height": 295
        },
        "id": "HvptuUuCtrtL",
        "outputId": "8c3bb007-4026-4b98-bb9a-79fd2c2b6e74"
      },
      "source": [
        "plt.figure(figsize=(12, 4))\n",
        "plt.plot(range(1, k_max), inertia, marker='s')\n",
        "\n",
        "plt.title('The Elbow Method using Inertia')\n",
        "plt.xlabel('Number of clusters k')\n",
        "plt.ylabel('Inertia')\n",
        "\n",
        "plt.show()"
      ],
      "execution_count": 87,
      "outputs": [
        {
          "output_type": "display_data",
          "data": {
            "image/png": "[encoded data removed]",
            "text/plain": [
              "<Figure size 864x288 with 1 Axes>"
            ]
          },
          "metadata": {
            "needs_background": "light"
          }
        }
      ]
    },
    {
      "cell_type": "code",
      "metadata": {
        "colab": {
          "base_uri": "https://localhost:8080/"
        },
        "id": "AsphmTTD6ruv",
        "outputId": "700c9fdd-f217-424f-d9c7-6019b7ef1c21"
      },
      "source": [
        "k_means = KMeans(n_clusters=3, random_state=42)\n",
        "k_means.fit(df_pca_tr[['PC_1', 'PC_2']])\n",
        "#plt.scatter(df_pca[:, 0], df_pca[:, 1], c=clusters)"
      ],
      "execution_count": 88,
      "outputs": [
        {
          "output_type": "execute_result",
          "data": {
            "text/plain": [
              "KMeans(n_clusters=3, random_state=42)"
            ]
          },
          "metadata": {},
          "execution_count": 88
        }
      ]
    },
    {
      "cell_type": "code",
      "metadata": {
        "id": "uzy-3kM08vuM"
      },
      "source": [
        "clusters_tr = k_means.predict(df_pca_tr[['PC_1', 'PC_2']])\n",
        "clusters_ts = k_means.predict(df_pca_ts[['PC_1', 'PC_2']])\n",
        "clusters_val = k_means.predict(df_pca_val[['PC_1', 'PC_2']])\n"
      ],
      "execution_count": 89,
      "outputs": []
    },
    {
      "cell_type": "code",
      "metadata": {
        "colab": {
          "base_uri": "https://localhost:8080/",
          "height": 283
        },
        "id": "-2HEBImD83CV",
        "outputId": "77776971-5405-4d0b-ce04-6c5fbd040115"
      },
      "source": [
        "plt.scatter(df_pca_tr['PC_1'], df_pca_tr['PC_2'], c=clusters_tr)"
      ],
      "execution_count": 90,
      "outputs": [
        {
          "output_type": "execute_result",
          "data": {
            "text/plain": [
              "<matplotlib.collections.PathCollection at 0x7fbce014b050>"
            ]
          },
          "metadata": {},
          "execution_count": 90
        },
        {
          "output_type": "display_data",
          "data": {
            "image/png": "[encoded data removed]",
            "text/plain": [
              "<Figure size 432x288 with 1 Axes>"
            ]
          },
          "metadata": {
            "needs_background": "light"
          }
        }
      ]
    },
    {
      "cell_type": "code",
      "metadata": {
        "id": "MSSDsInOGWIS"
      },
      "source": [
        "scaled_X_tr = scaled_X_tr.join(pd.DataFrame(clusters_tr, columns=['cluster']))\n",
        "scaled_X_ts = scaled_X_ts.join(pd.DataFrame(clusters_ts, columns=['cluster']))\n",
        "scaled_X_val = scaled_X_val.join(pd.DataFrame(clusters_val, columns=['cluster']))"
      ],
      "execution_count": 91,
      "outputs": []
    },
    {
      "cell_type": "code",
      "metadata": {
        "id": "PAvVbm00F_VD"
      },
      "source": [
        "cls = [0, 1, 2]\n",
        "colors = ['darkblue', 'lightseagreen', 'yellow']\n",
        "for cl, color in zip(cls,colors):\n",
        "    indicesToKeep = scaled_X_tr['cluster'] == cl\n",
        "    plt.scatter(df_pca_tr.loc[indicesToKeep, 'PC_1']\n",
        "               ,df_pca_tr.loc[indicesToKeep, 'PC_2'], c = color, s = 50)\n",
        "plt.legend(cls,prop={'size': 15})\n",
        "plt.title('PCA labeled with K-Means')\n",
        "plt.savefig(\"/content/k-means.jpg\")\n",
        "plt.close()"
      ],
      "execution_count": 92,
      "outputs": []
    },
    {
      "cell_type": "markdown",
      "metadata": {
        "id": "XrqiY3du_ZK5"
      },
      "source": [
        "Let's have a look to PCA and K-Means plot side by side."
      ]
    },
    {
      "cell_type": "code",
      "metadata": {
        "colab": {
          "base_uri": "https://localhost:8080/",
          "height": 221,
          "referenced_widgets": [
            "441fbcebae84466b89333e885908bb07",
            "51af351d01c34a9b965f58f661080b31",
            "872dca3b66844f6e8ac28f122eb35105",
            "382ddb14676d4b99a143f79a12086e74",
            "3ac956ba225043cb8ec01aefbf83f6f6",
            "7c86f0e758394771bf9950d8b15ca637"
          ]
        },
        "id": "qZUL77_cLnRY",
        "outputId": "7d715d1b-e7e5-48b2-b5de-7955581e62f8"
      },
      "source": [
        "import ipywidgets as widgets\n",
        "import IPython.display as display\n",
        "img1 = open('pca.jpg', 'rb').read()\n",
        "img2 = open('k-means.jpg', 'rb').read()\n",
        "wi1 = widgets.Image(value=img1, format='png', width=300, height=400)\n",
        "wi2 = widgets.Image(value=img2, format='png', width=300, height=400)\n",
        "## Side by side thanks to HBox widgets\n",
        "sidebyside = widgets.HBox([wi1, wi2])\n",
        "## Finally, show.\n",
        "display.display(sidebyside)"
      ],
      "execution_count": 93,
      "outputs": [
        {
          "output_type": "display_data",
          "data": {
            "application/vnd.jupyter.widget-view+json": {
              "model_id": "441fbcebae84466b89333e885908bb07",
              "version_minor": 0,
              "version_major": 2
            },
            "text/plain": [
              "HBox(children=(Image(value=b'\\xff\\xd8\\xff\\xe0\\x00\\x10JFIF\\x00\\x01\\x01\\x01\\x00H\\x00H\\x00\\x00\\xff\\xdb\\x00C\\x00\\x…"
            ]
          },
          "metadata": {}
        }
      ]
    },
    {
      "cell_type": "markdown",
      "metadata": {
        "id": "JtifL9B-JsdU"
      },
      "source": [
        "\n",
        "I would say that cluster {1} from PCA-target plot can correspond to PCA-k-Means clusters {1,2}. Thus, I will keep clusters aquired using k-Means after scaling them.\n",
        "\n"
      ]
    },
    {
      "cell_type": "code",
      "metadata": {
        "id": "Wj9E8gHT-zif"
      },
      "source": [
        "sc_cl_tr = scaler.fit_transform(scaled_X_tr['cluster'].values.reshape(-1,1))\n",
        "sc_cl_ts = scaler.fit_transform(scaled_X_ts['cluster'].values.reshape(-1,1))\n",
        "sc_cl_val = scaler.fit_transform(scaled_X_val['cluster'].values.reshape(-1,1))"
      ],
      "execution_count": 94,
      "outputs": []
    },
    {
      "cell_type": "code",
      "metadata": {
        "id": "4MKY8QqjNROw"
      },
      "source": [
        "scaled_X_tr['cluster'] = sc_cl_tr\n",
        "scaled_X_ts['cluster'] = sc_cl_ts\n",
        "scaled_X_val['cluster'] = sc_cl_val"
      ],
      "execution_count": 95,
      "outputs": []
    },
    {
      "cell_type": "code",
      "metadata": {
        "colab": {
          "base_uri": "https://localhost:8080/",
          "height": 223
        },
        "id": "lmTjVez3Ptzi",
        "outputId": "32488bf5-f447-43b5-b32a-670e16fd08bf"
      },
      "source": [
        "scaled_X_tr.head()"
      ],
      "execution_count": 96,
      "outputs": [
        {
          "output_type": "execute_result",
          "data": {
            "text/html": [
              "<div>\n",
              "<style scoped>\n",
              "    .dataframe tbody tr th:only-of-type {\n",
              "        vertical-align: middle;\n",
              "    }\n",
              "\n",
              "    .dataframe tbody tr th {\n",
              "        vertical-align: top;\n",
              "    }\n",
              "\n",
              "    .dataframe thead th {\n",
              "        text-align: right;\n",
              "    }\n",
              "</style>\n",
              "<table border=\"1\" class=\"dataframe\">\n",
              "  <thead>\n",
              "    <tr style=\"text-align: right;\">\n",
              "      <th></th>\n",
              "      <th>AAGE</th>\n",
              "      <th>ACLSWKR</th>\n",
              "      <th>ADTIND</th>\n",
              "      <th>ADTOCC</th>\n",
              "      <th>AHGA</th>\n",
              "      <th>AHRSPAY</th>\n",
              "      <th>AMARITL</th>\n",
              "      <th>AMJIND</th>\n",
              "      <th>AMJOCC</th>\n",
              "      <th>ASEX</th>\n",
              "      <th>AUNMEM</th>\n",
              "      <th>AWKSTAT</th>\n",
              "      <th>CAPGAIN</th>\n",
              "      <th>CAPLOSS</th>\n",
              "      <th>DIVVAL</th>\n",
              "      <th>FILESTAT</th>\n",
              "      <th>HHDFMX</th>\n",
              "      <th>HHDREL</th>\n",
              "      <th>MIGSAME</th>\n",
              "      <th>NOEMP</th>\n",
              "      <th>PARENT</th>\n",
              "      <th>SEOTR</th>\n",
              "      <th>VETYN</th>\n",
              "      <th>WKSWORK</th>\n",
              "      <th>cluster</th>\n",
              "    </tr>\n",
              "  </thead>\n",
              "  <tbody>\n",
              "    <tr>\n",
              "      <th>0</th>\n",
              "      <td>-1.188445</td>\n",
              "      <td>-0.839271</td>\n",
              "      <td>-0.850063</td>\n",
              "      <td>-0.782308</td>\n",
              "      <td>-0.654890</td>\n",
              "      <td>-0.203305</td>\n",
              "      <td>-1.027926</td>\n",
              "      <td>-0.791526</td>\n",
              "      <td>-0.598775</td>\n",
              "      <td>-0.959038</td>\n",
              "      <td>-0.322127</td>\n",
              "      <td>-0.375740</td>\n",
              "      <td>-0.092675</td>\n",
              "      <td>-0.138526</td>\n",
              "      <td>-0.09935</td>\n",
              "      <td>-1.110502</td>\n",
              "      <td>-1.069233</td>\n",
              "      <td>-0.961898</td>\n",
              "      <td>0.380007</td>\n",
              "      <td>-0.828090</td>\n",
              "      <td>-1.616439</td>\n",
              "      <td>-0.317014</td>\n",
              "      <td>-1.780396</td>\n",
              "      <td>-0.949931</td>\n",
              "      <td>0.331404</td>\n",
              "    </tr>\n",
              "    <tr>\n",
              "      <th>1</th>\n",
              "      <td>-0.694608</td>\n",
              "      <td>0.619931</td>\n",
              "      <td>0.976166</td>\n",
              "      <td>0.324092</td>\n",
              "      <td>-0.242872</td>\n",
              "      <td>-0.203305</td>\n",
              "      <td>-1.027926</td>\n",
              "      <td>-0.237882</td>\n",
              "      <td>0.737342</td>\n",
              "      <td>1.042711</td>\n",
              "      <td>-0.322127</td>\n",
              "      <td>-1.069378</td>\n",
              "      <td>0.368131</td>\n",
              "      <td>-0.138526</td>\n",
              "      <td>-0.09935</td>\n",
              "      <td>-0.009226</td>\n",
              "      <td>0.342397</td>\n",
              "      <td>1.200615</td>\n",
              "      <td>0.380007</td>\n",
              "      <td>1.707484</td>\n",
              "      <td>0.619154</td>\n",
              "      <td>3.294267</td>\n",
              "      <td>0.569506</td>\n",
              "      <td>-0.131009</td>\n",
              "      <td>-0.926536</td>\n",
              "    </tr>\n",
              "    <tr>\n",
              "      <th>2</th>\n",
              "      <td>-0.784397</td>\n",
              "      <td>2.212310</td>\n",
              "      <td>1.916951</td>\n",
              "      <td>1.361341</td>\n",
              "      <td>-0.565103</td>\n",
              "      <td>-0.203305</td>\n",
              "      <td>-1.027926</td>\n",
              "      <td>1.796308</td>\n",
              "      <td>-0.590342</td>\n",
              "      <td>1.042711</td>\n",
              "      <td>-0.322127</td>\n",
              "      <td>-0.625947</td>\n",
              "      <td>-0.092675</td>\n",
              "      <td>-0.138526</td>\n",
              "      <td>-0.09935</td>\n",
              "      <td>-1.110502</td>\n",
              "      <td>-1.069046</td>\n",
              "      <td>-1.128781</td>\n",
              "      <td>0.380007</td>\n",
              "      <td>-0.828090</td>\n",
              "      <td>-1.616439</td>\n",
              "      <td>-0.317014</td>\n",
              "      <td>0.569506</td>\n",
              "      <td>-0.949931</td>\n",
              "      <td>0.331404</td>\n",
              "    </tr>\n",
              "    <tr>\n",
              "      <th>3</th>\n",
              "      <td>-0.919079</td>\n",
              "      <td>-0.839271</td>\n",
              "      <td>-0.850063</td>\n",
              "      <td>-0.782308</td>\n",
              "      <td>-0.654890</td>\n",
              "      <td>-0.203305</td>\n",
              "      <td>-1.027926</td>\n",
              "      <td>-0.791526</td>\n",
              "      <td>-0.598775</td>\n",
              "      <td>1.042711</td>\n",
              "      <td>-0.322127</td>\n",
              "      <td>-0.375740</td>\n",
              "      <td>-0.092675</td>\n",
              "      <td>-0.138526</td>\n",
              "      <td>-0.09935</td>\n",
              "      <td>-1.110502</td>\n",
              "      <td>-1.069046</td>\n",
              "      <td>-1.128781</td>\n",
              "      <td>0.186601</td>\n",
              "      <td>-0.828090</td>\n",
              "      <td>-1.614649</td>\n",
              "      <td>-0.317014</td>\n",
              "      <td>-1.780396</td>\n",
              "      <td>-0.949931</td>\n",
              "      <td>0.331404</td>\n",
              "    </tr>\n",
              "    <tr>\n",
              "      <th>4</th>\n",
              "      <td>-0.066090</td>\n",
              "      <td>0.619931</td>\n",
              "      <td>0.754805</td>\n",
              "      <td>1.845391</td>\n",
              "      <td>0.129413</td>\n",
              "      <td>6.332126</td>\n",
              "      <td>1.092047</td>\n",
              "      <td>0.813746</td>\n",
              "      <td>0.035703</td>\n",
              "      <td>1.042711</td>\n",
              "      <td>3.966819</td>\n",
              "      <td>1.805559</td>\n",
              "      <td>1.535394</td>\n",
              "      <td>-0.138526</td>\n",
              "      <td>-0.09935</td>\n",
              "      <td>1.253625</td>\n",
              "      <td>1.467655</td>\n",
              "      <td>1.200615</td>\n",
              "      <td>0.380007</td>\n",
              "      <td>1.707484</td>\n",
              "      <td>0.619154</td>\n",
              "      <td>-0.317014</td>\n",
              "      <td>0.569506</td>\n",
              "      <td>1.179266</td>\n",
              "      <td>-0.926536</td>\n",
              "    </tr>\n",
              "  </tbody>\n",
              "</table>\n",
              "</div>"
            ],
            "text/plain": [
              "       AAGE   ACLSWKR    ADTIND  ...     VETYN   WKSWORK   cluster\n",
              "0 -1.188445 -0.839271 -0.850063  ... -1.780396 -0.949931  0.331404\n",
              "1 -0.694608  0.619931  0.976166  ...  0.569506 -0.131009 -0.926536\n",
              "2 -0.784397  2.212310  1.916951  ...  0.569506 -0.949931  0.331404\n",
              "3 -0.919079 -0.839271 -0.850063  ... -1.780396 -0.949931  0.331404\n",
              "4 -0.066090  0.619931  0.754805  ...  0.569506  1.179266 -0.926536\n",
              "\n",
              "[5 rows x 25 columns]"
            ]
          },
          "metadata": {},
          "execution_count": 96
        }
      ]
    },
    {
      "cell_type": "markdown",
      "metadata": {
        "id": "1YebWJobxwpx"
      },
      "source": [
        "**3. Model training**"
      ]
    },
    {
      "cell_type": "markdown",
      "metadata": {
        "id": "KLIGAaKShomq"
      },
      "source": [
        "3.1 Handling imbalanced data"
      ]
    },
    {
      "cell_type": "code",
      "metadata": {
        "colab": {
          "base_uri": "https://localhost:8080/"
        },
        "id": "B59iq28Mhnv4",
        "outputId": "3b7894ff-5ea5-49a7-cbea-2cf6fedb24e7"
      },
      "source": [
        "clf = ExtraTreesClassifier(n_estimators=50)\n",
        "clf.fit(scaled_X_tr, y_train)\n",
        "y_val_pred = clf.predict(scaled_X_val)\n",
        "print(f'f1-score on validation set for imbalanced data {f1_score(y_val, y_val_pred)}')"
      ],
      "execution_count": 97,
      "outputs": [
        {
          "output_type": "stream",
          "name": "stdout",
          "text": [
            "f1-score on validation set for imbalanced data 0.5209024552090246\n"
          ]
        }
      ]
    },
    {
      "cell_type": "code",
      "metadata": {
        "id": "OKkmD0v5kuEn"
      },
      "source": [
        "ada = ADASYN(sampling_strategy=0.8, n_neighbors=4)\n",
        "ada_xtrain, ada_ytrain = ada.fit_resample(scaled_X_tr.values, y_train.values)"
      ],
      "execution_count": 98,
      "outputs": []
    },
    {
      "cell_type": "code",
      "metadata": {
        "colab": {
          "base_uri": "https://localhost:8080/"
        },
        "id": "yofi8jnPkxLT",
        "outputId": "6949c601-14ac-4af2-fce6-dd4cc44c8a02"
      },
      "source": [
        "clf.fit(ada_xtrain, ada_ytrain)\n",
        "y_val_pred = clf.predict(scaled_X_val)"
      ],
      "execution_count": 99,
      "outputs": [
        {
          "output_type": "stream",
          "name": "stderr",
          "text": [
            "/usr/local/lib/python3.7/dist-packages/sklearn/base.py:439: UserWarning: X has feature names, but ExtraTreesClassifier was fitted without feature names\n",
            "  f\"X has feature names, but {self.__class__.__name__} was fitted without\"\n"
          ]
        }
      ]
    },
    {
      "cell_type": "code",
      "metadata": {
        "colab": {
          "base_uri": "https://localhost:8080/"
        },
        "id": "T-aBnZgOljRF",
        "outputId": "4c0c949c-aecb-4b7f-a59c-c021fd932723"
      },
      "source": [
        "print(f'f1-score on validation set with oversampling {f1_score(y_val, y_val_pred)}')"
      ],
      "execution_count": 99,
      "outputs": [
        {
          "output_type": "stream",
          "name": "stdout",
          "text": [
            "f1-score on validation set with oversampling 0.49466357308584685\n"
          ]
        }
      ]
    },
    {
      "cell_type": "code",
      "metadata": {
        "id": "MpIbxVDKrgin"
      },
      "source": [
        "from imblearn.under_sampling import  TomekLinks"
      ],
      "execution_count": 100,
      "outputs": []
    },
    {
      "cell_type": "code",
      "metadata": {
        "colab": {
          "base_uri": "https://localhost:8080/"
        },
        "id": "BYMiGDWErljp",
        "outputId": "6338fc5b-1172-4b22-f8f0-f6a28998c397"
      },
      "source": [
        "tl = TomekLinks()\n",
        "\n",
        "X_tr_tl, y_tr_tl = tl.fit_resample(scaled_X_tr, y_train)\n",
        "clf.fit(X_tr_tl, y_tr_tl)\n",
        "y_val_pred = clf.predict(scaled_X_val)\n",
        "print(f'f1-score on validation set with oversampling {f1_score(y_val, y_val_pred)}')"
      ],
      "execution_count": 101,
      "outputs": [
        {
          "output_type": "stream",
          "name": "stdout",
          "text": [
            "f1-score on validation set with oversampling 0.5384018619084562\n"
          ]
        }
      ]
    },
    {
      "cell_type": "code",
      "metadata": {
        "colab": {
          "base_uri": "https://localhost:8080/"
        },
        "id": "hVyyV1zAkEYC",
        "outputId": "4a4784d7-9c44-4deb-d29e-bfcbe426545d"
      },
      "source": [
        "smt = SMOTETomek(sampling_strategy=0.8)\n",
        "\n",
        "st_xtrain, st_ytrain = smt.fit_resample(scaled_X_tr.values, y_train.values)\n",
        "clf.fit(st_xtrain, st_ytrain)\n",
        "y_val_pred = clf.predict(scaled_X_val)"
      ],
      "execution_count": 102,
      "outputs": [
        {
          "output_type": "stream",
          "name": "stderr",
          "text": [
            "/usr/local/lib/python3.7/dist-packages/sklearn/base.py:439: UserWarning: X has feature names, but ExtraTreesClassifier was fitted without feature names\n",
            "  f\"X has feature names, but {self.__class__.__name__} was fitted without\"\n"
          ]
        }
      ]
    },
    {
      "cell_type": "code",
      "metadata": {
        "colab": {
          "base_uri": "https://localhost:8080/"
        },
        "id": "OdBi4vuZrknF",
        "outputId": "fad34203-bab1-45a4-c707-1bc446e42519"
      },
      "source": [
        "print(f'f1-score on validation set with oversampling {f1_score(y_val, y_val_pred)}')"
      ],
      "execution_count": 103,
      "outputs": [
        {
          "output_type": "stream",
          "name": "stdout",
          "text": [
            "f1-score on validation set with oversampling 0.5175074183976262\n"
          ]
        }
      ]
    },
    {
      "cell_type": "code",
      "metadata": {
        "id": "jXdS8xKx5oCH"
      },
      "source": [
        "X_tr_tl.to_csv('X_tr_tl.csv', sep='\\t')\n",
        "y_tr_tl.to_csv('y_tr_tl.csv', sep='\\t')"
      ],
      "execution_count": 103,
      "outputs": []
    },
    {
      "cell_type": "markdown",
      "metadata": {
        "id": "OUcD8kQ71i3w"
      },
      "source": [
        "Models to be used:\n",
        "* LightGBM\n",
        "* XGBoost\n",
        "* Logistic regression\n",
        "* Kernel-SVM"
      ]
    },
    {
      "cell_type": "code",
      "metadata": {
        "id": "rivK9auv9XvH"
      },
      "source": [
        "#X_tr_tl[imp_feat], y_tr_tl[imp_feat]\n",
        "#scaled_X_val[imp_feat], t_val[imp_feat]"
      ],
      "execution_count": null,
      "outputs": []
    },
    {
      "cell_type": "code",
      "metadata": {
        "id": "2cXrL2d1-nb7"
      },
      "source": [
        "from sklearn.model_selection import GridSearchCV"
      ],
      "execution_count": 109,
      "outputs": []
    },
    {
      "cell_type": "code",
      "metadata": {
        "colab": {
          "base_uri": "https://localhost:8080/"
        },
        "id": "hAmKOs852BZO",
        "outputId": "dac2e658-eb21-48e4-f053-6f49fa93fd9b"
      },
      "source": [
        "svc_params = {'C': [1, 2, 5, 7, 10],\n",
        "             'gamma': ['scale', 'auto']}\n",
        "\n",
        "\n",
        "svc = SVC(kernel='rbf')\n",
        "grid_pipe_svc = GridSearchCV(svc, param_grid=svc_params, cv=5,  scoring='f1', n_jobs =2)\n",
        "grid_pipe_svc.fit(X_tr_tl[imp_feat], y_tr_tl)"
      ],
      "execution_count": null,
      "outputs": [
        {
          "output_type": "stream",
          "name": "stderr",
          "text": [
            "/usr/local/lib/python3.7/dist-packages/joblib/externals/loky/process_executor.py:705: UserWarning: A worker stopped while some jobs were given to the executor. This can be caused by a too short worker timeout or by a memory leak.\n",
            "  \"timeout or by a memory leak.\", UserWarning\n"
          ]
        }
      ]
    },
    {
      "cell_type": "code",
      "metadata": {
        "id": "ZBn_1rlhAN6A"
      },
      "source": [
        "paramGrid = {\n",
        "    \"max_depth\": [3,5,7],\n",
        "    \"eta\": [0.01, 0.1, 0.3],\n",
        "    \"min_child_weight\": [3, 5, 10],\n",
        "}\n",
        "\n",
        "fit_params = {\"early_stopping_rounds\": 10,\n",
        "              \"eval_metric\": \"f1\",\n",
        "              \"eval_set\": [[scaled_X_val[imp_feat], y_val]]}\n",
        "\n",
        "xgbm = xgb.XGBClassifier(objective='binary:logistic', use_label_encoder=False,\n",
        "                         scale_pos_weight=1, subsample=0.8,\n",
        "                         colsample_bytree=0.6, reg_alpha=0.001,\n",
        "                         n_estimators=200, max_delta_step=1)\n",
        "\n",
        "xgb_cv = GridSearchCV(xgbm, paramGrid, verbose=10,\n",
        "                      cv=5, n_jobs=-1, verbose=0)\n",
        "\n",
        "xgb_cv.fit(X_tr_tl[imp_feat], y_tr_tl, **fit_params)"
      ],
      "execution_count": null,
      "outputs": []
    },
    {
      "cell_type": "code",
      "metadata": {
        "colab": {
          "base_uri": "https://localhost:8080/",
          "height": 439
        },
        "id": "MQNyi1WR-Po5",
        "outputId": "fe0b34aa-a2d3-456c-cc16-d8a6b7f65b0f"
      },
      "source": [
        "scaled_X_val[imp_feat]"
      ],
      "execution_count": 106,
      "outputs": [
        {
          "output_type": "execute_result",
          "data": {
            "text/html": [
              "<div>\n",
              "<style scoped>\n",
              "    .dataframe tbody tr th:only-of-type {\n",
              "        vertical-align: middle;\n",
              "    }\n",
              "\n",
              "    .dataframe tbody tr th {\n",
              "        vertical-align: top;\n",
              "    }\n",
              "\n",
              "    .dataframe thead th {\n",
              "        text-align: right;\n",
              "    }\n",
              "</style>\n",
              "<table border=\"1\" class=\"dataframe\">\n",
              "  <thead>\n",
              "    <tr style=\"text-align: right;\">\n",
              "      <th></th>\n",
              "      <th>AAGE</th>\n",
              "      <th>AHGA</th>\n",
              "      <th>CAPGAIN</th>\n",
              "      <th>DIVVAL</th>\n",
              "      <th>FILESTAT</th>\n",
              "      <th>ADTOCC</th>\n",
              "      <th>WKSWORK</th>\n",
              "      <th>ACLSWKR</th>\n",
              "      <th>AMARITL</th>\n",
              "      <th>NOEMP</th>\n",
              "      <th>AWKSTAT</th>\n",
              "      <th>HHDREL</th>\n",
              "      <th>AMJOCC</th>\n",
              "      <th>VETYN</th>\n",
              "      <th>PARENT</th>\n",
              "      <th>ADTIND</th>\n",
              "      <th>AMJIND</th>\n",
              "      <th>HHDFMX</th>\n",
              "    </tr>\n",
              "  </thead>\n",
              "  <tbody>\n",
              "    <tr>\n",
              "      <th>0</th>\n",
              "      <td>2.208264</td>\n",
              "      <td>-0.571389</td>\n",
              "      <td>-0.092237</td>\n",
              "      <td>-0.100142</td>\n",
              "      <td>-0.004881</td>\n",
              "      <td>-0.782066</td>\n",
              "      <td>-0.947985</td>\n",
              "      <td>-0.838651</td>\n",
              "      <td>-0.625803</td>\n",
              "      <td>-0.824780</td>\n",
              "      <td>-0.374008</td>\n",
              "      <td>1.202607</td>\n",
              "      <td>-0.594197</td>\n",
              "      <td>0.57048</td>\n",
              "      <td>0.619142</td>\n",
              "      <td>-0.848985</td>\n",
              "      <td>-0.787941</td>\n",
              "      <td>0.344035</td>\n",
              "    </tr>\n",
              "    <tr>\n",
              "      <th>1</th>\n",
              "      <td>0.913337</td>\n",
              "      <td>-0.240565</td>\n",
              "      <td>-0.092237</td>\n",
              "      <td>-0.100142</td>\n",
              "      <td>-1.107582</td>\n",
              "      <td>-0.782066</td>\n",
              "      <td>-0.947985</td>\n",
              "      <td>-0.838651</td>\n",
              "      <td>0.440671</td>\n",
              "      <td>-0.824780</td>\n",
              "      <td>-0.374008</td>\n",
              "      <td>1.202607</td>\n",
              "      <td>-0.594197</td>\n",
              "      <td>0.57048</td>\n",
              "      <td>0.619142</td>\n",
              "      <td>-0.848985</td>\n",
              "      <td>-0.787941</td>\n",
              "      <td>0.344035</td>\n",
              "    </tr>\n",
              "    <tr>\n",
              "      <th>2</th>\n",
              "      <td>0.198895</td>\n",
              "      <td>-0.240565</td>\n",
              "      <td>-0.092237</td>\n",
              "      <td>-0.100142</td>\n",
              "      <td>1.259603</td>\n",
              "      <td>1.018806</td>\n",
              "      <td>1.184403</td>\n",
              "      <td>0.628459</td>\n",
              "      <td>1.093116</td>\n",
              "      <td>1.715141</td>\n",
              "      <td>-0.374008</td>\n",
              "      <td>-0.133967</td>\n",
              "      <td>-0.360310</td>\n",
              "      <td>0.57048</td>\n",
              "      <td>0.619142</td>\n",
              "      <td>1.421197</td>\n",
              "      <td>0.910319</td>\n",
              "      <td>-0.126403</td>\n",
              "    </tr>\n",
              "    <tr>\n",
              "      <th>3</th>\n",
              "      <td>-0.783462</td>\n",
              "      <td>-0.541530</td>\n",
              "      <td>-0.092237</td>\n",
              "      <td>-0.100142</td>\n",
              "      <td>-1.107582</td>\n",
              "      <td>0.533956</td>\n",
              "      <td>-0.537910</td>\n",
              "      <td>0.628459</td>\n",
              "      <td>-1.030130</td>\n",
              "      <td>0.021860</td>\n",
              "      <td>-0.374008</td>\n",
              "      <td>-1.130041</td>\n",
              "      <td>0.751514</td>\n",
              "      <td>0.57048</td>\n",
              "      <td>-1.614684</td>\n",
              "      <td>0.978235</td>\n",
              "      <td>-0.230737</td>\n",
              "      <td>-1.071011</td>\n",
              "    </tr>\n",
              "    <tr>\n",
              "      <th>4</th>\n",
              "      <td>0.288201</td>\n",
              "      <td>-0.240565</td>\n",
              "      <td>-0.092237</td>\n",
              "      <td>-0.100142</td>\n",
              "      <td>1.259603</td>\n",
              "      <td>1.711449</td>\n",
              "      <td>1.184403</td>\n",
              "      <td>0.628459</td>\n",
              "      <td>1.093116</td>\n",
              "      <td>0.445180</td>\n",
              "      <td>-0.374008</td>\n",
              "      <td>-0.133967</td>\n",
              "      <td>-0.259794</td>\n",
              "      <td>0.57048</td>\n",
              "      <td>0.619142</td>\n",
              "      <td>0.369162</td>\n",
              "      <td>0.930752</td>\n",
              "      <td>-0.126403</td>\n",
              "    </tr>\n",
              "    <tr>\n",
              "      <th>...</th>\n",
              "      <td>...</td>\n",
              "      <td>...</td>\n",
              "      <td>...</td>\n",
              "      <td>...</td>\n",
              "      <td>...</td>\n",
              "      <td>...</td>\n",
              "      <td>...</td>\n",
              "      <td>...</td>\n",
              "      <td>...</td>\n",
              "      <td>...</td>\n",
              "      <td>...</td>\n",
              "      <td>...</td>\n",
              "      <td>...</td>\n",
              "      <td>...</td>\n",
              "      <td>...</td>\n",
              "      <td>...</td>\n",
              "      <td>...</td>\n",
              "      <td>...</td>\n",
              "    </tr>\n",
              "    <tr>\n",
              "      <th>59852</th>\n",
              "      <td>0.109590</td>\n",
              "      <td>1.423613</td>\n",
              "      <td>-0.092237</td>\n",
              "      <td>-0.100142</td>\n",
              "      <td>1.259603</td>\n",
              "      <td>-0.089423</td>\n",
              "      <td>-0.455896</td>\n",
              "      <td>0.762958</td>\n",
              "      <td>1.093116</td>\n",
              "      <td>0.868501</td>\n",
              "      <td>-0.374008</td>\n",
              "      <td>1.202607</td>\n",
              "      <td>2.140985</td>\n",
              "      <td>0.57048</td>\n",
              "      <td>0.619142</td>\n",
              "      <td>1.531938</td>\n",
              "      <td>0.740825</td>\n",
              "      <td>1.472164</td>\n",
              "    </tr>\n",
              "    <tr>\n",
              "      <th>59853</th>\n",
              "      <td>0.377506</td>\n",
              "      <td>0.018283</td>\n",
              "      <td>-0.092237</td>\n",
              "      <td>-0.100142</td>\n",
              "      <td>-1.107582</td>\n",
              "      <td>-0.782066</td>\n",
              "      <td>-0.947985</td>\n",
              "      <td>-0.838651</td>\n",
              "      <td>0.440671</td>\n",
              "      <td>-0.824780</td>\n",
              "      <td>-1.175224</td>\n",
              "      <td>-0.602679</td>\n",
              "      <td>-0.594197</td>\n",
              "      <td>0.57048</td>\n",
              "      <td>0.619142</td>\n",
              "      <td>-0.848985</td>\n",
              "      <td>-0.787941</td>\n",
              "      <td>-0.813956</td>\n",
              "    </tr>\n",
              "    <tr>\n",
              "      <th>59854</th>\n",
              "      <td>0.109590</td>\n",
              "      <td>-0.590546</td>\n",
              "      <td>-0.092237</td>\n",
              "      <td>-0.100142</td>\n",
              "      <td>1.259603</td>\n",
              "      <td>1.295863</td>\n",
              "      <td>1.184403</td>\n",
              "      <td>0.628459</td>\n",
              "      <td>1.093116</td>\n",
              "      <td>0.445180</td>\n",
              "      <td>-0.374008</td>\n",
              "      <td>-0.133967</td>\n",
              "      <td>-0.585703</td>\n",
              "      <td>0.57048</td>\n",
              "      <td>0.619142</td>\n",
              "      <td>1.476568</td>\n",
              "      <td>0.960617</td>\n",
              "      <td>-0.126403</td>\n",
              "    </tr>\n",
              "    <tr>\n",
              "      <th>59855</th>\n",
              "      <td>0.779380</td>\n",
              "      <td>1.423613</td>\n",
              "      <td>-0.092237</td>\n",
              "      <td>-0.100142</td>\n",
              "      <td>1.259603</td>\n",
              "      <td>-0.089423</td>\n",
              "      <td>0.118209</td>\n",
              "      <td>0.762958</td>\n",
              "      <td>1.093116</td>\n",
              "      <td>0.868501</td>\n",
              "      <td>-0.374008</td>\n",
              "      <td>-0.133967</td>\n",
              "      <td>2.140985</td>\n",
              "      <td>0.57048</td>\n",
              "      <td>0.619142</td>\n",
              "      <td>1.531938</td>\n",
              "      <td>0.740825</td>\n",
              "      <td>-0.126403</td>\n",
              "    </tr>\n",
              "    <tr>\n",
              "      <th>59856</th>\n",
              "      <td>0.645422</td>\n",
              "      <td>1.423613</td>\n",
              "      <td>-0.092237</td>\n",
              "      <td>-0.100142</td>\n",
              "      <td>1.259603</td>\n",
              "      <td>-0.089423</td>\n",
              "      <td>1.184403</td>\n",
              "      <td>0.762958</td>\n",
              "      <td>1.093116</td>\n",
              "      <td>1.715141</td>\n",
              "      <td>1.807408</td>\n",
              "      <td>-0.133967</td>\n",
              "      <td>2.140985</td>\n",
              "      <td>0.57048</td>\n",
              "      <td>0.619142</td>\n",
              "      <td>1.531938</td>\n",
              "      <td>0.740825</td>\n",
              "      <td>-0.126403</td>\n",
              "    </tr>\n",
              "  </tbody>\n",
              "</table>\n",
              "<p>59857 rows × 18 columns</p>\n",
              "</div>"
            ],
            "text/plain": [
              "           AAGE      AHGA   CAPGAIN  ...    ADTIND    AMJIND    HHDFMX\n",
              "0      2.208264 -0.571389 -0.092237  ... -0.848985 -0.787941  0.344035\n",
              "1      0.913337 -0.240565 -0.092237  ... -0.848985 -0.787941  0.344035\n",
              "2      0.198895 -0.240565 -0.092237  ...  1.421197  0.910319 -0.126403\n",
              "3     -0.783462 -0.541530 -0.092237  ...  0.978235 -0.230737 -1.071011\n",
              "4      0.288201 -0.240565 -0.092237  ...  0.369162  0.930752 -0.126403\n",
              "...         ...       ...       ...  ...       ...       ...       ...\n",
              "59852  0.109590  1.423613 -0.092237  ...  1.531938  0.740825  1.472164\n",
              "59853  0.377506  0.018283 -0.092237  ... -0.848985 -0.787941 -0.813956\n",
              "59854  0.109590 -0.590546 -0.092237  ...  1.476568  0.960617 -0.126403\n",
              "59855  0.779380  1.423613 -0.092237  ...  1.531938  0.740825 -0.126403\n",
              "59856  0.645422  1.423613 -0.092237  ...  1.531938  0.740825 -0.126403\n",
              "\n",
              "[59857 rows x 18 columns]"
            ]
          },
          "metadata": {},
          "execution_count": 106
        }
      ]
    },
    {
      "cell_type": "code",
      "metadata": {
        "id": "7xD7kVNN-IS5"
      },
      "source": [
        ""
      ],
      "execution_count": null,
      "outputs": []
    }
  ]
}